{
 "cells": [
  {
   "cell_type": "markdown",
   "id": "39d3c1da-1de0-4f62-a855-d2e9998c419a",
   "metadata": {},
   "source": [
    "# Ensure Supercell Size is Reasonable\n",
    "CP2K's a flexible code, but it's preferred recipe for wavefunction optimization doesn't work with multiple k-points. That's a problem for small unit cells because we cannot ensure adaquate sampling of the reciprocal space with planewaves. We overcome this by making supercell becaue the plan is to run large-cell calculations of surfaces adsorption or bulk anyway."
   ]
  },
  {
   "cell_type": "code",
   "execution_count": 1,
   "id": "5724a9fc-0c6f-4d61-ba45-025de9f22f85",
   "metadata": {},
   "outputs": [],
   "source": [
    "%matplotlib inline\n",
    "from matplotlib import pyplot as plt\n",
    "from ase.db import connect\n",
    "import pandas as pd\n",
    "import numpy as np"
   ]
  },
  {
   "cell_type": "markdown",
   "id": "e8effcc7-27a4-4056-8dbf-9cb8eddfca03",
   "metadata": {},
   "source": [
    "## Load Results\n",
    "Get the energy and volume per atom for each computation. "
   ]
  },
  {
   "cell_type": "code",
   "execution_count": 2,
   "id": "1e9accc4-f738-4e86-a8e4-b09ed23f2fec",
   "metadata": {},
   "outputs": [
    {
     "name": "stdout",
     "output_type": "stream",
     "text": [
      "Loaded 49 calculations for 25 compositions\n"
     ]
    }
   ],
   "source": [
    "results = []\n",
    "with connect('cp2k-relax.db') as db:\n",
    "    for row in db.select(''):\n",
    "        results.append({\n",
    "            'name': row.key_value_pairs['name'],\n",
    "            'supercell': row.key_value_pairs['supercell'],\n",
    "            'volume': row.volume / row.natoms,\n",
    "            'energy': row.energy / row.natoms\n",
    "        })\n",
    "results = pd.DataFrame(results)\n",
    "print(f'Loaded {len(results)} calculations for {len(set(results[\"name\"]))} compositions')"
   ]
  },
  {
   "cell_type": "markdown",
   "id": "1cca0ed9-b74e-46de-a613-39aae0109f75",
   "metadata": {},
   "source": [
    "## Summarize Results\n",
    "Get the energy and volume at the largest supercell size"
   ]
  },
  {
   "cell_type": "code",
   "execution_count": 3,
   "id": "60cd6883-a04d-4a60-a386-a5ed8e406697",
   "metadata": {},
   "outputs": [
    {
     "name": "stdout",
     "output_type": "stream",
     "text": [
      "Retreived 9 calculations at the largest cell size (4)\n"
     ]
    }
   ],
   "source": [
    "largest_cell = results['supercell'].max()\n",
    "largest_result = results.query(f'supercell == {largest_cell}')\n",
    "print(f'Retreived {len(largest_result)} calculations at the largest cell size ({largest_cell})')"
   ]
  },
  {
   "cell_type": "markdown",
   "id": "f9b30d1f-ad77-4116-adcf-59523c93abf4",
   "metadata": {},
   "source": [
    "Get statistics about difference in energy and volume between "
   ]
  },
  {
   "cell_type": "code",
   "execution_count": 4,
   "id": "b84f81e4-b173-49d5-954a-dfea7322b074",
   "metadata": {},
   "outputs": [
    {
     "data": {
      "text/html": [
       "<div>\n",
       "<style scoped>\n",
       "    .dataframe tbody tr th:only-of-type {\n",
       "        vertical-align: middle;\n",
       "    }\n",
       "\n",
       "    .dataframe tbody tr th {\n",
       "        vertical-align: top;\n",
       "    }\n",
       "\n",
       "    .dataframe thead th {\n",
       "        text-align: right;\n",
       "    }\n",
       "</style>\n",
       "<table border=\"1\" class=\"dataframe\">\n",
       "  <thead>\n",
       "    <tr style=\"text-align: right;\">\n",
       "      <th></th>\n",
       "      <th>size</th>\n",
       "      <th>n</th>\n",
       "      <th>energy_diff_mean</th>\n",
       "      <th>energy_diff_std</th>\n",
       "      <th>energy_diff_max</th>\n",
       "      <th>volume_diff_mean</th>\n",
       "      <th>volume_diff_std</th>\n",
       "      <th>volume_diff_max</th>\n",
       "    </tr>\n",
       "  </thead>\n",
       "  <tbody>\n",
       "    <tr>\n",
       "      <th>0</th>\n",
       "      <td>1</td>\n",
       "      <td>7</td>\n",
       "      <td>2.412133</td>\n",
       "      <td>0.661255</td>\n",
       "      <td>3.548542</td>\n",
       "      <td>2.376748</td>\n",
       "      <td>1.314203</td>\n",
       "      <td>3.978179</td>\n",
       "    </tr>\n",
       "    <tr>\n",
       "      <th>1</th>\n",
       "      <td>2</td>\n",
       "      <td>9</td>\n",
       "      <td>0.153899</td>\n",
       "      <td>0.143620</td>\n",
       "      <td>0.429052</td>\n",
       "      <td>0.101633</td>\n",
       "      <td>0.075141</td>\n",
       "      <td>0.251002</td>\n",
       "    </tr>\n",
       "    <tr>\n",
       "      <th>2</th>\n",
       "      <td>3</td>\n",
       "      <td>8</td>\n",
       "      <td>0.091897</td>\n",
       "      <td>0.136330</td>\n",
       "      <td>0.411185</td>\n",
       "      <td>0.072079</td>\n",
       "      <td>0.137732</td>\n",
       "      <td>0.410732</td>\n",
       "    </tr>\n",
       "    <tr>\n",
       "      <th>3</th>\n",
       "      <td>4</td>\n",
       "      <td>9</td>\n",
       "      <td>0.000000</td>\n",
       "      <td>0.000000</td>\n",
       "      <td>0.000000</td>\n",
       "      <td>0.000000</td>\n",
       "      <td>0.000000</td>\n",
       "      <td>0.000000</td>\n",
       "    </tr>\n",
       "  </tbody>\n",
       "</table>\n",
       "</div>"
      ],
      "text/plain": [
       "   size  n  energy_diff_mean  energy_diff_std  energy_diff_max  \\\n",
       "0     1  7          2.412133         0.661255         3.548542   \n",
       "1     2  9          0.153899         0.143620         0.429052   \n",
       "2     3  8          0.091897         0.136330         0.411185   \n",
       "3     4  9          0.000000         0.000000         0.000000   \n",
       "\n",
       "   volume_diff_mean  volume_diff_std  volume_diff_max  \n",
       "0          2.376748         1.314203         3.978179  \n",
       "1          0.101633         0.075141         0.251002  \n",
       "2          0.072079         0.137732         0.410732  \n",
       "3          0.000000         0.000000         0.000000  "
      ]
     },
     "execution_count": 4,
     "metadata": {},
     "output_type": "execute_result"
    }
   ],
   "source": [
    "supercell_stats = []\n",
    "for size, group in results.groupby('supercell'):\n",
    "    merged = largest_result.merge(group, on='name', how='inner', suffixes=('_large', '_small'))\n",
    "\n",
    "    summary = {'size': size, 'n': len(merged)}\n",
    "    for prop in ['energy', 'volume']:\n",
    "        errors = (merged[f'{prop}_large'] - merged[f'{prop}_small']).abs()\n",
    "        summary.update({\n",
    "            f'{prop}_diff_mean': errors.mean(),\n",
    "            f'{prop}_diff_std': errors.std(),\n",
    "            f'{prop}_diff_max': errors.max()\n",
    "        })\n",
    "\n",
    "    supercell_stats.append(summary)\n",
    "supercell_stats = pd.DataFrame(supercell_stats)\n",
    "supercell_stats"
   ]
  },
  {
   "cell_type": "code",
   "execution_count": 5,
   "id": "8ce7f818-634e-4549-a425-9d0e725263ec",
   "metadata": {},
   "outputs": [
    {
     "data": {
      "image/png": "[encoded data removed]",
      "text/plain": [
       "<Figure size 350x200 with 2 Axes>"
      ]
     },
     "metadata": {},
     "output_type": "display_data"
    }
   ],
   "source": [
    "fig, axs = plt.subplots(2, 1, figsize=(3.5, 2.), sharex=True)\n",
    "\n",
    "axs[0].errorbar(supercell_stats['size'], supercell_stats['energy_diff_mean'], yerr=supercell_stats['energy_diff_std'])\n",
    "axs[0].set_yscale('log')\n",
    "axs[0].set_ylabel('$\\Delta$E (eV)')\n",
    "\n",
    "axs[1].errorbar(supercell_stats['size'], supercell_stats['volume_diff_mean'], yerr=supercell_stats['volume_diff_std'])\n",
    "axs[1].set_yscale('log')\n",
    "axs[1].set_ylabel('$\\Delta$V ($\\\\AA^3$)')\n",
    "\n",
    "axs[1].set_xlabel('Supercell Size')\n",
    "fig.tight_layout()"
   ]
  },
  {
   "cell_type": "markdown",
   "id": "181a9cde-0afb-415d-85c6-25591c5c50df",
   "metadata": {},
   "source": [
    "A supercell size of 2 is at least large enough to avoid major issues with volume relaxation"
   ]
  },
  {
   "cell_type": "code",
   "execution_count": null,
   "id": "157a7c35-764a-486c-9d71-0a21d460070f",
   "metadata": {},
   "outputs": [],
   "source": []
  }
 ],
 "metadata": {
  "kernelspec": {
   "display_name": "Python 3 (ipykernel)",
   "language": "python",
   "name": "python3"
  },
  "language_info": {
   "codemirror_mode": {
    "name": "ipython",
    "version": 3
   },
   "file_extension": ".py",
   "mimetype": "text/x-python",
   "name": "python",
   "nbconvert_exporter": "python",
   "pygments_lexer": "ipython3",
   "version": "3.10.0"
  }
 },
 "nbformat": 4,
 "nbformat_minor": 5
}
