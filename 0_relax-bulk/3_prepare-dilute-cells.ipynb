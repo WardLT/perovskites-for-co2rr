{
 "cells": [
  {
   "cell_type": "markdown",
   "id": "596be0ec-5cfd-4332-afc4-beb24edcb91f",
   "metadata": {},
   "source": [
    "# Prepare Cells with Dilute Mixing\n",
    "Generate initial structures where we aliovalently dope each perovskite. "
   ]
  },
  {
   "cell_type": "code",
   "execution_count": 23,
   "id": "769902d2-eb4c-41e1-b249-490abedd5c42",
   "metadata": {},
   "outputs": [],
   "source": [
    "from collections import defaultdict\n",
    "from ase.db import connect\n",
    "import pandas as pd"
   ]
  },
  {
   "cell_type": "markdown",
   "id": "bfa1a920-2f45-4b77-b7b2-71642b3fdacd",
   "metadata": {},
   "source": [
    "Configuration"
   ]
  },
  {
   "cell_type": "code",
   "execution_count": 24,
   "id": "41c721dd-aba9-45fb-83be-efab1f7fcddd",
   "metadata": {},
   "outputs": [],
   "source": [
    "supercell: int = 2  # Number of unit cells per simulation cell"
   ]
  },
  {
   "cell_type": "markdown",
   "id": "b21001dd-2e57-4c31-bc71-f4fccaa6dd3b",
   "metadata": {},
   "source": [
    "## Load the Initial Structures\n",
    "Get the Atoms object for each structure and the charge states of atoms on each site."
   ]
  },
  {
   "cell_type": "code",
   "execution_count": 25,
   "id": "1e07e1f4-0c1c-414d-b2af-aa530dc21206",
   "metadata": {},
   "outputs": [
    {
     "data": {
      "text/html": [
       "<div>\n",
       "<style scoped>\n",
       "    .dataframe tbody tr th:only-of-type {\n",
       "        vertical-align: middle;\n",
       "    }\n",
       "\n",
       "    .dataframe tbody tr th {\n",
       "        vertical-align: top;\n",
       "    }\n",
       "\n",
       "    .dataframe thead th {\n",
       "        text-align: right;\n",
       "    }\n",
       "</style>\n",
       "<table border=\"1\" class=\"dataframe\">\n",
       "  <thead>\n",
       "    <tr style=\"text-align: right;\">\n",
       "      <th></th>\n",
       "      <th>name</th>\n",
       "      <th>a</th>\n",
       "      <th>b</th>\n",
       "      <th>a_val</th>\n",
       "      <th>b_val</th>\n",
       "      <th>supercell</th>\n",
       "      <th>atoms</th>\n",
       "    </tr>\n",
       "  </thead>\n",
       "  <tbody>\n",
       "    <tr>\n",
       "      <th>0</th>\n",
       "      <td>CeAlO3</td>\n",
       "      <td>Ce</td>\n",
       "      <td>Al</td>\n",
       "      <td>3</td>\n",
       "      <td>3</td>\n",
       "      <td>2</td>\n",
       "      <td>(Atom('Ce', [0.0, 0.0, 0.0], magmom=7.0, index...</td>\n",
       "    </tr>\n",
       "    <tr>\n",
       "      <th>1</th>\n",
       "      <td>TbAlO3</td>\n",
       "      <td>Tb</td>\n",
       "      <td>Al</td>\n",
       "      <td>3</td>\n",
       "      <td>3</td>\n",
       "      <td>2</td>\n",
       "      <td>(Atom('Tb', [-1.918220590456243e-06, 1.2258864...</td>\n",
       "    </tr>\n",
       "    <tr>\n",
       "      <th>2</th>\n",
       "      <td>MnGeO3</td>\n",
       "      <td>Mn</td>\n",
       "      <td>Ge</td>\n",
       "      <td>2</td>\n",
       "      <td>4</td>\n",
       "      <td>2</td>\n",
       "      <td>(Atom('Mn', [-1.9866617139540923e-06, -1.29286...</td>\n",
       "    </tr>\n",
       "    <tr>\n",
       "      <th>3</th>\n",
       "      <td>YScO3</td>\n",
       "      <td>Y</td>\n",
       "      <td>Sc</td>\n",
       "      <td>3</td>\n",
       "      <td>3</td>\n",
       "      <td>2</td>\n",
       "      <td>(Atom('Y', [-2.6041382337886296e-05, 5.5206279...</td>\n",
       "    </tr>\n",
       "  </tbody>\n",
       "</table>\n",
       "</div>"
      ],
      "text/plain": [
       "     name   a   b  a_val  b_val  supercell  \\\n",
       "0  CeAlO3  Ce  Al      3      3          2   \n",
       "1  TbAlO3  Tb  Al      3      3          2   \n",
       "2  MnGeO3  Mn  Ge      2      4          2   \n",
       "3   YScO3   Y  Sc      3      3          2   \n",
       "\n",
       "                                               atoms  \n",
       "0  (Atom('Ce', [0.0, 0.0, 0.0], magmom=7.0, index...  \n",
       "1  (Atom('Tb', [-1.918220590456243e-06, 1.2258864...  \n",
       "2  (Atom('Mn', [-1.9866617139540923e-06, -1.29286...  \n",
       "3  (Atom('Y', [-2.6041382337886296e-05, 5.5206279...  "
      ]
     },
     "execution_count": 25,
     "metadata": {},
     "output_type": "execute_result"
    }
   ],
   "source": [
    "pure_structures = []\n",
    "with connect('atoms-relax.db') as db:\n",
    "    for row in db.select(supercell=supercell):\n",
    "        atoms = row.toatoms(True)\n",
    "        pure_structures.append({\n",
    "            **atoms.info['key_value_pairs'],\n",
    "            'atoms': atoms,\n",
    "        })\n",
    "pure_structures = pd.DataFrame(pure_structures)\n",
    "pure_structures.head()"
   ]
  },
  {
   "cell_type": "markdown",
   "id": "b65279c0-a9b9-4ff9-b2f2-8e0f0a125816",
   "metadata": {},
   "source": [
    "Remove structures with unknown valency"
   ]
  },
  {
   "cell_type": "code",
   "execution_count": 26,
   "id": "3ebfb8b0-8a4e-4c8c-be13-fcda575ed23b",
   "metadata": {},
   "outputs": [
    {
     "name": "stdout",
     "output_type": "stream",
     "text": [
      "Found a total of 4 starting points\n"
     ]
    }
   ],
   "source": [
    "pure_structures.query('a_val > 0', inplace=True)\n",
    "print(f'Found a total of {len(pure_structures)} starting points')"
   ]
  },
  {
   "cell_type": "markdown",
   "id": "b9eead0e-9973-4cb2-bc4b-6ff5118e9705",
   "metadata": {},
   "source": [
    "Assemble atoms by allowed valency"
   ]
  },
  {
   "cell_type": "code",
   "execution_count": 27,
   "id": "48d121ec-002b-4ab5-b0d5-438a646d164f",
   "metadata": {},
   "outputs": [],
   "source": [
    "elements_by_val = defaultdict(set)\n",
    "for l in ['a', 'b']:\n",
    "    for gid, group in pure_structures.groupby(f'{l}_val'):\n",
    "        elements_by_val[gid].update(group[l].tolist())"
   ]
  },
  {
   "cell_type": "code",
   "execution_count": 28,
   "id": "f7ca5416-1d95-4f08-bc08-3458ef7c9397",
   "metadata": {},
   "outputs": [
    {
     "name": "stdout",
     "output_type": "stream",
     "text": [
      "1 elements in 2+\n",
      "5 elements in 3+\n",
      "1 elements in 4+\n"
     ]
    }
   ],
   "source": [
    "for ox, count in elements_by_val.items():\n",
    "    print(f'{len(count)} elements in {ox}+')"
   ]
  },
  {
   "cell_type": "markdown",
   "id": "5d6dea12-2a88-4258-8f2b-577623b27772",
   "metadata": {},
   "source": [
    "## Assemble the Dilute Mixing Structures\n",
    "Replace the first atom of a certain type with each of the the atoms which can take on the same valency"
   ]
  },
  {
   "cell_type": "code",
   "execution_count": 29,
   "id": "68a2e8c5-23a9-42ec-bec5-2d74321380d4",
   "metadata": {},
   "outputs": [],
   "source": [
    "with connect('initial-dilute-mixing.db') as db:\n",
    "    for rid, row in pure_structures.iterrows():  # Over all pure structures\n",
    "        for l in ['a', 'b']:\n",
    "            # Find the atom to replace\n",
    "            old_elem = row[l]\n",
    "            old_id = row['atoms'].symbols.index(old_elem)\n",
    "\n",
    "            # Iterate over all possible replacements\n",
    "            for new_elem in elements_by_val[row[f'{l}_val']]:\n",
    "                new_atoms = row['atoms'].copy()\n",
    "                if new_elem in row[['a', 'b']].tolist():\n",
    "                    continue\n",
    "\n",
    "                # Make a new name\n",
    "                site_count = new_atoms.get_chemical_symbols().count(old_elem)\n",
    "                if l == 'a':\n",
    "                    name = f'({old_elem}{site_count - 1}{new_elem}1){row[\"b\"]}O3'\n",
    "                else:\n",
    "                    name = f'{row[\"a\"]}({old_elem}{site_count - 1}{new_elem}1)O3'\n",
    "\n",
    "                # Alter the structure\n",
    "                new_symbols = new_atoms.get_chemical_symbols()\n",
    "                new_symbols[old_id] = new_elem\n",
    "                new_atoms.set_chemical_symbols(new_symbols)\n",
    "\n",
    "                # Add to the db if it doesn't exist\n",
    "                if db.count(name=name, supercell=supercell) == 0:\n",
    "                    db.write(new_atoms, name=name, dopant=new_elem, site=l, **row.drop(['atoms', 'name']))"
   ]
  },
  {
   "cell_type": "code",
   "execution_count": null,
   "id": "865b65c4-7698-474a-a8be-a1260e22f735",
   "metadata": {},
   "outputs": [],
   "source": []
  }
 ],
 "metadata": {
  "kernelspec": {
   "display_name": "Python 3 (ipykernel)",
   "language": "python",
   "name": "python3"
  },
  "language_info": {
   "codemirror_mode": {
    "name": "ipython",
    "version": 3
   },
   "file_extension": ".py",
   "mimetype": "text/x-python",
   "name": "python",
   "nbconvert_exporter": "python",
   "pygments_lexer": "ipython3",
   "version": "3.10.0"
  }
 },
 "nbformat": 4,
 "nbformat_minor": 5
}
