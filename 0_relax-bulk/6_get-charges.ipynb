{
 "cells": [
  {
   "cell_type": "markdown",
   "id": "c78ee9e5-bbe0-4c9e-85ff-7776a2fadde8",
   "metadata": {},
   "source": [
    "# Get Partial Charges\n",
    "Evaluate the oxidation states given the charge densities computed from DFT."
   ]
  },
  {
   "cell_type": "code",
   "execution_count": 1,
   "id": "cb17417b-c481-4f80-ad1e-9c349edb82f4",
   "metadata": {},
   "outputs": [],
   "source": [
    "from co2rr.bader import compute_partial_charges\n",
    "from co2rr.cp2k import pp_val\n",
    "from ase.db import connect\n",
    "from ase.io import read\n",
    "from pathlib import Path\n",
    "from tqdm import tqdm\n",
    "import pandas as pd\n",
    "import numpy as np\n",
    "import json"
   ]
  },
  {
   "cell_type": "markdown",
   "id": "d79341e0-3164-4d5d-89bb-fb4c5ce49873",
   "metadata": {},
   "source": [
    "## Get Map of Composition to A/B Element(s)\n",
    "We are going to summarize the oxidation states of the structure for the A and B sites. So, let's get a table of name -> A / B atoms"
   ]
  },
  {
   "cell_type": "code",
   "execution_count": 2,
   "id": "fe2c1fdb-419a-49d2-b403-3d54928626b0",
   "metadata": {},
   "outputs": [],
   "source": [
    "name_to_sites = {}\n",
    "with connect('atoms-relax.db') as db:\n",
    "    for row in db.select(''):\n",
    "        # Get the identities for the host structure\n",
    "        record = dict(\n",
    "            a_sites=[row.key_value_pairs['a']],\n",
    "            b_sites=[row.key_value_pairs['b']]\n",
    "        )\n",
    "\n",
    "        # Add the dopant if available\n",
    "        if 'dopant' in row.key_value_pairs:\n",
    "            dopant = row.key_value_pairs['dopant']\n",
    "            if row.key_value_pairs['site'] == 'a':\n",
    "                record['a_sites'].append(dopant)\n",
    "            else:\n",
    "                record['b_sites'].append(dopant)\n",
    "\n",
    "        name=row.key_value_pairs['name']\n",
    "        name_to_sites[name] = record"
   ]
  },
  {
   "cell_type": "markdown",
   "id": "bd1a3030-7796-49fc-8ed7-5f5a64afcfaf",
   "metadata": {},
   "source": [
    "## Run Charge Analysis for All\n",
    "Find the cube files and run chargemol for each"
   ]
  },
  {
   "cell_type": "code",
   "execution_count": 3,
   "id": "4c981454-7888-4f70-83d7-14473c9bfbfe",
   "metadata": {},
   "outputs": [
    {
     "name": "stderr",
     "output_type": "stream",
     "text": [
      "130it [01:01,  2.11it/s]\n"
     ]
    }
   ],
   "source": [
    "ox_data = []\n",
    "for path in tqdm(Path('atoms-relax/').rglob('*.cube.gz')):\n",
    "    run_type = path.name.split(\".\")[0]\n",
    "    charges_path = path.parent / f'{run_type}.charges.json'\n",
    "\n",
    "    # Run if needed\n",
    "    if not charges_path.exists():\n",
    "        charges = compute_partial_charges(path)\n",
    "        charges_path.write_text(json.dumps(charges.tolist()))\n",
    "    else:\n",
    "        charges = json.loads(charges_path.read_text())\n",
    "\n",
    "    # Load the structure then compute the charge\n",
    "    atoms = read(path.with_name('relax.traj'), -1)\n",
    "    oxi = [pp_val[e] - c for c, e in zip(charges, atoms.symbols)]\n",
    "\n",
    "    # Summarize the oxidation state for each site\n",
    "    name = path.parts[1]\n",
    "    sites = name_to_sites[name]\n",
    "    record = {'name': name}\n",
    "    for tag, elems in [('A', sites['a_sites']), ('B', sites['b_sites']), ('O', ['O'])]:\n",
    "        site_charges = [o for o, e in zip(oxi, atoms.symbols) if e in elems]\n",
    "        record[tag] = np.mean(site_charges)\n",
    "    ox_data.append(record)\n",
    "ox_data = pd.DataFrame(ox_data)"
   ]
  },
  {
   "cell_type": "code",
   "execution_count": 4,
   "id": "fc366ef0-651c-4c5e-864a-eb085d8b89a3",
   "metadata": {},
   "outputs": [],
   "source": [
    "ox_data.to_csv('oxidation-states.csv', index=False)"
   ]
  },
  {
   "cell_type": "code",
   "execution_count": null,
   "id": "8719393a-7bda-4e4c-945b-7174414bc6f8",
   "metadata": {},
   "outputs": [],
   "source": []
  }
 ],
 "metadata": {
  "kernelspec": {
   "display_name": "Python 3 (ipykernel)",
   "language": "python",
   "name": "python3"
  },
  "language_info": {
   "codemirror_mode": {
    "name": "ipython",
    "version": 3
   },
   "file_extension": ".py",
   "mimetype": "text/x-python",
   "name": "python",
   "nbconvert_exporter": "python",
   "pygments_lexer": "ipython3",
   "version": "3.10.0"
  }
 },
 "nbformat": 4,
 "nbformat_minor": 5
}
