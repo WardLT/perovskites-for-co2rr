{
 "cells": [
  {
   "cell_type": "markdown",
   "id": "ab5563ee-e417-4b2a-9d93-54c00a29f357",
   "metadata": {},
   "source": [
    "# Compute Features for the Data\n",
    "Use the basic feature set of [Ward et al.](https://www.nature.com/articles/npjcompumats201628). Build a dataset for O_{2p} center"
   ]
  },
  {
   "cell_type": "code",
   "execution_count": 4,
   "id": "874de809-fcd0-4879-86f2-780177bc939d",
   "metadata": {},
   "outputs": [
    {
     "name": "stderr",
     "output_type": "stream",
     "text": [
      "/home/lward/miniconda3/envs/vfp_defects/lib/python3.10/site-packages/pymatgen/analysis/phase_diagram.py:24: TqdmWarning: IProgress not found. Please update jupyter and ipywidgets. See https://ipywidgets.readthedocs.io/en/stable/user_install.html\n",
      "  from tqdm.autonotebook import tqdm\n"
     ]
    }
   ],
   "source": [
    "from matminer.featurizers import composition as cf\n",
    "from matminer.featurizers.base import MultipleFeaturizer\n",
    "from matminer.utils.data import MagpieData\n",
    "from pymatgen.core import Composition, Element\n",
    "from pathlib import Path\n",
    "import pandas as pd"
   ]
  },
  {
   "cell_type": "markdown",
   "id": "e1f14943-a498-4c1a-a2d0-49bc439ad8b3",
   "metadata": {},
   "source": [
    "Configuration"
   ]
  },
  {
   "cell_type": "code",
   "execution_count": 5,
   "id": "0ec681f9-d86b-4a6b-95eb-16ecb2fd5c5f",
   "metadata": {},
   "outputs": [],
   "source": [
    "elem_feature_names = [\n",
    "    \"Number\", \"MendeleevNumber\", \"AtomicWeight\", \"MeltingT\", \"Column\", \"Row\", \"CovalentRadius\", \"Electronegativity\", \n",
    "    \"NsValence\", \"NpValence\", \"NdValence\", \"NfValence\", \"NValence\", \"NsUnfilled\", \"NpUnfilled\", \"NdUnfilled\", \"NfUnfilled\", \"NUnfilled\",\n",
    "    \"GSvolume_pa\", \"GSbandgap\", \"GSmagmom\", \"SpaceGroupNumber\"\n",
    "]"
   ]
  },
  {
   "cell_type": "markdown",
   "id": "6ffe6503-54c9-4f6c-9d4d-a79b25e00a8c",
   "metadata": {},
   "source": [
    "## Load the Dataset and Featurize the Formula\n",
    "Load a dataset, compute the features, save it as a new file"
   ]
  },
  {
   "cell_type": "code",
   "execution_count": 6,
   "id": "bec8b9c4-fb5c-4d34-ad86-71587ee395d7",
   "metadata": {},
   "outputs": [],
   "source": [
    "featurizer = MultipleFeaturizer([\n",
    "      cf.Stoichiometry(),\n",
    "      cf.ElementProperty.from_preset('magpie'),\n",
    "      cf.ValenceOrbital(props=['frac']),\n",
    "      cf.IonProperty(fast=True)\n",
    "])"
   ]
  },
  {
   "cell_type": "markdown",
   "id": "09dd2797-d05b-452c-8f95-5d83dff74669",
   "metadata": {},
   "source": [
    "Load the band center dataset"
   ]
  },
  {
   "cell_type": "code",
   "execution_count": 7,
   "id": "8b1b1494-d0a2-46f0-8538-e58675f9da28",
   "metadata": {},
   "outputs": [
    {
     "name": "stdout",
     "output_type": "stream",
     "text": [
      "Loaded a total of 130 O2p energies\n"
     ]
    },
    {
     "data": {
      "text/html": [
       "<div>\n",
       "<style scoped>\n",
       "    .dataframe tbody tr th:only-of-type {\n",
       "        vertical-align: middle;\n",
       "    }\n",
       "\n",
       "    .dataframe tbody tr th {\n",
       "        vertical-align: top;\n",
       "    }\n",
       "\n",
       "    .dataframe thead th {\n",
       "        text-align: right;\n",
       "    }\n",
       "</style>\n",
       "<table border=\"1\" class=\"dataframe\">\n",
       "  <thead>\n",
       "    <tr style=\"text-align: right;\">\n",
       "      <th></th>\n",
       "      <th>name</th>\n",
       "      <th>comp</th>\n",
       "      <th>o2p_center</th>\n",
       "      <th>d_center</th>\n",
       "      <th>gap</th>\n",
       "    </tr>\n",
       "  </thead>\n",
       "  <tbody>\n",
       "    <tr>\n",
       "      <th>0</th>\n",
       "      <td>Ce(Al7Tb1)O3</td>\n",
       "      <td>Al7Ce8TbO24</td>\n",
       "      <td>-7.660965</td>\n",
       "      <td>-13.407655</td>\n",
       "      <td>0.162368</td>\n",
       "    </tr>\n",
       "    <tr>\n",
       "      <th>1</th>\n",
       "      <td>(Sr7Pb1)MnO3</td>\n",
       "      <td>Mn8PbSr7O24</td>\n",
       "      <td>-6.699999</td>\n",
       "      <td>-7.389470</td>\n",
       "      <td>0.697309</td>\n",
       "    </tr>\n",
       "    <tr>\n",
       "      <th>2</th>\n",
       "      <td>Eu(Cr7Zr1)O3</td>\n",
       "      <td>Cr7Eu8ZrO24</td>\n",
       "      <td>-9.038988</td>\n",
       "      <td>-9.870905</td>\n",
       "      <td>0.361716</td>\n",
       "    </tr>\n",
       "    <tr>\n",
       "      <th>3</th>\n",
       "      <td>Cu(Ta7Sb1)O3</td>\n",
       "      <td>Cu8Ta7O24Sb</td>\n",
       "      <td>-6.519520</td>\n",
       "      <td>-6.156400</td>\n",
       "      <td>0.156627</td>\n",
       "    </tr>\n",
       "    <tr>\n",
       "      <th>4</th>\n",
       "      <td>CdZrO3</td>\n",
       "      <td>CdZrO3</td>\n",
       "      <td>-5.233573</td>\n",
       "      <td>-6.918262</td>\n",
       "      <td>1.296169</td>\n",
       "    </tr>\n",
       "  </tbody>\n",
       "</table>\n",
       "</div>"
      ],
      "text/plain": [
       "           name         comp  o2p_center   d_center       gap\n",
       "0  Ce(Al7Tb1)O3  Al7Ce8TbO24   -7.660965 -13.407655  0.162368\n",
       "1  (Sr7Pb1)MnO3  Mn8PbSr7O24   -6.699999  -7.389470  0.697309\n",
       "2  Eu(Cr7Zr1)O3  Cr7Eu8ZrO24   -9.038988  -9.870905  0.361716\n",
       "3  Cu(Ta7Sb1)O3  Cu8Ta7O24Sb   -6.519520  -6.156400  0.156627\n",
       "4        CdZrO3       CdZrO3   -5.233573  -6.918262  1.296169"
      ]
     },
     "execution_count": 7,
     "metadata": {},
     "output_type": "execute_result"
    }
   ],
   "source": [
    "data = pd.read_csv('band-centers.csv')\n",
    "print(f'Loaded a total of {len(data)} O2p energies')\n",
    "data.head()"
   ]
  },
  {
   "cell_type": "markdown",
   "id": "8fc4117b-accd-4a03-b5b3-73f64758bc1d",
   "metadata": {},
   "source": [
    "Compute features for the bulk material"
   ]
  },
  {
   "cell_type": "code",
   "execution_count": 8,
   "id": "071a632c-63fc-4653-a410-2d98e4a794eb",
   "metadata": {},
   "outputs": [
    {
     "name": "stderr",
     "output_type": "stream",
     "text": [
      "MultipleFeaturizer: 100%|██████████████████████████████████████████████████████████████████████████████████████████████████████████████████████████████████████████████████████████████████████████████████████████████████████████████████████████████| 130/130 [00:00<00:00, 759.48it/s]\n"
     ]
    }
   ],
   "source": [
    "data['comp_obj'] = data['comp'].apply(Composition)\n",
    "bulk_features = featurizer.featurize_dataframe(data, 'comp_obj')\n",
    "bulk_features = bulk_features.iloc[:, len(data.columns):]  # Only get the new columns"
   ]
  },
  {
   "cell_type": "markdown",
   "id": "7045b6a6-e54b-4644-87c7-a1cce8177c9e",
   "metadata": {},
   "source": [
    "Rename features to have the word \"bulk\" in front of them"
   ]
  },
  {
   "cell_type": "code",
   "execution_count": 9,
   "id": "d3e7c8b8-9265-40bb-8e61-0ce47d6c8b22",
   "metadata": {},
   "outputs": [
    {
     "data": {
      "text/html": [
       "<div>\n",
       "<style scoped>\n",
       "    .dataframe tbody tr th:only-of-type {\n",
       "        vertical-align: middle;\n",
       "    }\n",
       "\n",
       "    .dataframe tbody tr th {\n",
       "        vertical-align: top;\n",
       "    }\n",
       "\n",
       "    .dataframe thead th {\n",
       "        text-align: right;\n",
       "    }\n",
       "</style>\n",
       "<table border=\"1\" class=\"dataframe\">\n",
       "  <thead>\n",
       "    <tr style=\"text-align: right;\">\n",
       "      <th></th>\n",
       "      <th>bulk_0-norm</th>\n",
       "      <th>bulk_2-norm</th>\n",
       "      <th>bulk_3-norm</th>\n",
       "      <th>bulk_5-norm</th>\n",
       "      <th>bulk_7-norm</th>\n",
       "      <th>bulk_10-norm</th>\n",
       "      <th>bulk_MagpieData minimum Number</th>\n",
       "      <th>bulk_MagpieData maximum Number</th>\n",
       "      <th>bulk_MagpieData range Number</th>\n",
       "      <th>bulk_MagpieData mean Number</th>\n",
       "      <th>...</th>\n",
       "      <th>bulk_MagpieData mean SpaceGroupNumber</th>\n",
       "      <th>bulk_MagpieData avg_dev SpaceGroupNumber</th>\n",
       "      <th>bulk_MagpieData mode SpaceGroupNumber</th>\n",
       "      <th>bulk_frac s valence electrons</th>\n",
       "      <th>bulk_frac p valence electrons</th>\n",
       "      <th>bulk_frac d valence electrons</th>\n",
       "      <th>bulk_frac f valence electrons</th>\n",
       "      <th>bulk_compound possible</th>\n",
       "      <th>bulk_max ionic char</th>\n",
       "      <th>bulk_avg ionic char</th>\n",
       "    </tr>\n",
       "  </thead>\n",
       "  <tbody>\n",
       "    <tr>\n",
       "      <th>0</th>\n",
       "      <td>4</td>\n",
       "      <td>0.656696</td>\n",
       "      <td>0.612137</td>\n",
       "      <td>0.600745</td>\n",
       "      <td>0.600055</td>\n",
       "      <td>0.600001</td>\n",
       "      <td>8.0</td>\n",
       "      <td>65.0</td>\n",
       "      <td>57.0</td>\n",
       "      <td>20.30</td>\n",
       "      <td>...</td>\n",
       "      <td>90.225</td>\n",
       "      <td>93.87</td>\n",
       "      <td>12.0</td>\n",
       "      <td>0.384615</td>\n",
       "      <td>0.495192</td>\n",
       "      <td>0.038462</td>\n",
       "      <td>0.081731</td>\n",
       "      <td>True</td>\n",
       "      <td>0.745613</td>\n",
       "      <td>0.161798</td>\n",
       "    </tr>\n",
       "    <tr>\n",
       "      <th>1</th>\n",
       "      <td>4</td>\n",
       "      <td>0.656696</td>\n",
       "      <td>0.612137</td>\n",
       "      <td>0.600745</td>\n",
       "      <td>0.600055</td>\n",
       "      <td>0.600001</td>\n",
       "      <td>8.0</td>\n",
       "      <td>82.0</td>\n",
       "      <td>74.0</td>\n",
       "      <td>18.50</td>\n",
       "      <td>...</td>\n",
       "      <td>95.600</td>\n",
       "      <td>100.32</td>\n",
       "      <td>12.0</td>\n",
       "      <td>0.330579</td>\n",
       "      <td>0.404959</td>\n",
       "      <td>0.206612</td>\n",
       "      <td>0.057851</td>\n",
       "      <td>True</td>\n",
       "      <td>0.787757</td>\n",
       "      <td>0.162936</td>\n",
       "    </tr>\n",
       "    <tr>\n",
       "      <th>2</th>\n",
       "      <td>4</td>\n",
       "      <td>0.656696</td>\n",
       "      <td>0.612137</td>\n",
       "      <td>0.600745</td>\n",
       "      <td>0.600055</td>\n",
       "      <td>0.600001</td>\n",
       "      <td>8.0</td>\n",
       "      <td>63.0</td>\n",
       "      <td>55.0</td>\n",
       "      <td>22.60</td>\n",
       "      <td>...</td>\n",
       "      <td>97.925</td>\n",
       "      <td>103.11</td>\n",
       "      <td>12.0</td>\n",
       "      <td>0.278626</td>\n",
       "      <td>0.366412</td>\n",
       "      <td>0.141221</td>\n",
       "      <td>0.213740</td>\n",
       "      <td>False</td>\n",
       "      <td>0.714753</td>\n",
       "      <td>0.155230</td>\n",
       "    </tr>\n",
       "    <tr>\n",
       "      <th>3</th>\n",
       "      <td>4</td>\n",
       "      <td>0.656696</td>\n",
       "      <td>0.612137</td>\n",
       "      <td>0.600745</td>\n",
       "      <td>0.600055</td>\n",
       "      <td>0.600001</td>\n",
       "      <td>8.0</td>\n",
       "      <td>73.0</td>\n",
       "      <td>65.0</td>\n",
       "      <td>24.65</td>\n",
       "      <td>...</td>\n",
       "      <td>96.425</td>\n",
       "      <td>101.31</td>\n",
       "      <td>12.0</td>\n",
       "      <td>0.189474</td>\n",
       "      <td>0.260526</td>\n",
       "      <td>0.292105</td>\n",
       "      <td>0.257895</td>\n",
       "      <td>True</td>\n",
       "      <td>0.609724</td>\n",
       "      <td>0.125160</td>\n",
       "    </tr>\n",
       "    <tr>\n",
       "      <th>4</th>\n",
       "      <td>3</td>\n",
       "      <td>0.663325</td>\n",
       "      <td>0.614463</td>\n",
       "      <td>0.600984</td>\n",
       "      <td>0.600078</td>\n",
       "      <td>0.600002</td>\n",
       "      <td>8.0</td>\n",
       "      <td>48.0</td>\n",
       "      <td>40.0</td>\n",
       "      <td>22.40</td>\n",
       "      <td>...</td>\n",
       "      <td>84.800</td>\n",
       "      <td>87.36</td>\n",
       "      <td>12.0</td>\n",
       "      <td>0.294118</td>\n",
       "      <td>0.352941</td>\n",
       "      <td>0.352941</td>\n",
       "      <td>0.000000</td>\n",
       "      <td>True</td>\n",
       "      <td>0.671436</td>\n",
       "      <td>0.146042</td>\n",
       "    </tr>\n",
       "  </tbody>\n",
       "</table>\n",
       "<p>5 rows × 145 columns</p>\n",
       "</div>"
      ],
      "text/plain": [
       "   bulk_0-norm  bulk_2-norm  bulk_3-norm  bulk_5-norm  bulk_7-norm  \\\n",
       "0            4     0.656696     0.612137     0.600745     0.600055   \n",
       "1            4     0.656696     0.612137     0.600745     0.600055   \n",
       "2            4     0.656696     0.612137     0.600745     0.600055   \n",
       "3            4     0.656696     0.612137     0.600745     0.600055   \n",
       "4            3     0.663325     0.614463     0.600984     0.600078   \n",
       "\n",
       "   bulk_10-norm  bulk_MagpieData minimum Number  \\\n",
       "0      0.600001                             8.0   \n",
       "1      0.600001                             8.0   \n",
       "2      0.600001                             8.0   \n",
       "3      0.600001                             8.0   \n",
       "4      0.600002                             8.0   \n",
       "\n",
       "   bulk_MagpieData maximum Number  bulk_MagpieData range Number  \\\n",
       "0                            65.0                          57.0   \n",
       "1                            82.0                          74.0   \n",
       "2                            63.0                          55.0   \n",
       "3                            73.0                          65.0   \n",
       "4                            48.0                          40.0   \n",
       "\n",
       "   bulk_MagpieData mean Number  ...  bulk_MagpieData mean SpaceGroupNumber  \\\n",
       "0                        20.30  ...                                 90.225   \n",
       "1                        18.50  ...                                 95.600   \n",
       "2                        22.60  ...                                 97.925   \n",
       "3                        24.65  ...                                 96.425   \n",
       "4                        22.40  ...                                 84.800   \n",
       "\n",
       "   bulk_MagpieData avg_dev SpaceGroupNumber  \\\n",
       "0                                     93.87   \n",
       "1                                    100.32   \n",
       "2                                    103.11   \n",
       "3                                    101.31   \n",
       "4                                     87.36   \n",
       "\n",
       "   bulk_MagpieData mode SpaceGroupNumber  bulk_frac s valence electrons  \\\n",
       "0                                   12.0                       0.384615   \n",
       "1                                   12.0                       0.330579   \n",
       "2                                   12.0                       0.278626   \n",
       "3                                   12.0                       0.189474   \n",
       "4                                   12.0                       0.294118   \n",
       "\n",
       "   bulk_frac p valence electrons  bulk_frac d valence electrons  \\\n",
       "0                       0.495192                       0.038462   \n",
       "1                       0.404959                       0.206612   \n",
       "2                       0.366412                       0.141221   \n",
       "3                       0.260526                       0.292105   \n",
       "4                       0.352941                       0.352941   \n",
       "\n",
       "   bulk_frac f valence electrons  bulk_compound possible  bulk_max ionic char  \\\n",
       "0                       0.081731                    True             0.745613   \n",
       "1                       0.057851                    True             0.787757   \n",
       "2                       0.213740                   False             0.714753   \n",
       "3                       0.257895                    True             0.609724   \n",
       "4                       0.000000                    True             0.671436   \n",
       "\n",
       "   bulk_avg ionic char  \n",
       "0             0.161798  \n",
       "1             0.162936  \n",
       "2             0.155230  \n",
       "3             0.125160  \n",
       "4             0.146042  \n",
       "\n",
       "[5 rows x 145 columns]"
      ]
     },
     "execution_count": 9,
     "metadata": {},
     "output_type": "execute_result"
    }
   ],
   "source": [
    "bulk_features.rename(columns=lambda x: f'bulk_{x}', inplace=True)\n",
    "bulk_features.head()"
   ]
  },
  {
   "cell_type": "markdown",
   "id": "60fa5c9b-3faf-4373-930e-609046f1127b",
   "metadata": {},
   "source": [
    "Concatentate and save"
   ]
  },
  {
   "cell_type": "code",
   "execution_count": 10,
   "id": "00c17534-9e9f-431c-9130-a6b9d5089feb",
   "metadata": {},
   "outputs": [],
   "source": [
    "pd.concat([data.drop(columns=['comp_obj']), bulk_features], axis=1).to_csv('../datasets/band-centers.csv', index=False)"
   ]
  }
 ],
 "metadata": {
  "kernelspec": {
   "display_name": "Python 3 (ipykernel)",
   "language": "python",
   "name": "python3"
  },
  "language_info": {
   "codemirror_mode": {
    "name": "ipython",
    "version": 3
   },
   "file_extension": ".py",
   "mimetype": "text/x-python",
   "name": "python",
   "nbconvert_exporter": "python",
   "pygments_lexer": "ipython3",
   "version": "3.10.0"
  }
 },
 "nbformat": 4,
 "nbformat_minor": 5
}
