{
 "cells": [
  {
   "cell_type": "markdown",
   "id": "43e56a88-b1a1-4d06-aa3b-c459a4ebc664",
   "metadata": {},
   "source": [
    "# Evalaute the Band Structure\n",
    "Get the band gap energy and the center of the 2p band"
   ]
  },
  {
   "cell_type": "code",
   "execution_count": 1,
   "id": "bf485c5c-c5e3-457f-a071-87dfa4580b30",
   "metadata": {},
   "outputs": [],
   "source": [
    "from tarfile import TarFile\n",
    "from pathlib import Path\n",
    "from ase.io import read\n",
    "from tqdm import tqdm\n",
    "import pandas as pd\n",
    "import numpy as np"
   ]
  },
  {
   "cell_type": "markdown",
   "id": "ac063187-4d8a-4d73-b94f-ab7f97b91a55",
   "metadata": {},
   "source": [
    "## Make loading functions\n",
    "We need a function to load the band structure data then functions to read out the band gap energy and band centers."
   ]
  },
  {
   "cell_type": "code",
   "execution_count": 2,
   "id": "faa9b8e6-5e2f-4236-8553-c0c15a38f757",
   "metadata": {},
   "outputs": [],
   "source": [
    "def read_band_structure(tar_path) -> tuple[pd.DataFrame, float]:\n",
    "    \"\"\"\"Read the band structure from a tar file of pdos files from CP2K\n",
    "\n",
    "    Args:\n",
    "        tar_path: Path to the tar file containing the data\n",
    "    Returns:\n",
    "        - A DataFrame containing all atom kinds and types\n",
    "        - Fermi level (a.u.)\n",
    "    \"\"\"\n",
    "\n",
    "    kinds = []\n",
    "    with TarFile.gzopen(tar_path) as tar:\n",
    "        for member in tar.getmembers():\n",
    "            # Read the top of the file\n",
    "            with tar.extractfile(member) as fp:\n",
    "                # Header with the kind information\n",
    "                first_line = fp.readline().decode().split()\n",
    "                elem = first_line[6]\n",
    "                e_fermi = float(first_line[-2])\n",
    "\n",
    "                # Header with the column names\n",
    "                columns = ['MO', 'Energy'] + fp.readline().decode().split()[4:]\n",
    "\n",
    "            with tar.extractfile(member) as fp:\n",
    "                data = pd.read_csv(fp, skiprows=2, sep='\\s+', names=columns)\n",
    "                data['elem'] = elem\n",
    "                data['alpha'] = 'ALPHA' in member.name\n",
    "                kinds.append(data)\n",
    "\n",
    "    return pd.concat(kinds, axis=0, ignore_index=True), e_fermi"
   ]
  },
  {
   "cell_type": "code",
   "execution_count": 3,
   "id": "7e69ba51-ae71-4052-aaa4-1ff1e0e4ec5f",
   "metadata": {},
   "outputs": [],
   "source": [
    "band_data, e_fermi = read_band_structure('atoms-relax/CeAlO3/2-cells/pdos.pbe-plus-u.tar.gz')"
   ]
  },
  {
   "cell_type": "code",
   "execution_count": 4,
   "id": "8505ed40-531b-4353-8130-d3e54ddd1117",
   "metadata": {},
   "outputs": [],
   "source": [
    "def get_band_center(band_data, orbitals: list[str] = ['px', 'py', 'pz']):\n",
    "    \"\"\"Get the band center for all available orbitals\n",
    "\n",
    "    Args:\n",
    "        band_data: Band data of interest\n",
    "        orbitals: Which orbitals to sum\n",
    "    Returns:\n",
    "        The weighted mean of the energies of the target orbitals (a.u.)\n",
    "    \"\"\"\n",
    "\n",
    "    return np.dot(\n",
    "        band_data[orbitals].sum(axis=1) * \n",
    "        band_data['Occupation'],\n",
    "        band_data['Energy'],\n",
    "    ) / band_data[orbitals].values.sum()"
   ]
  },
  {
   "cell_type": "code",
   "execution_count": 5,
   "id": "0c7a6915-bb9e-47cd-9303-b26466143213",
   "metadata": {},
   "outputs": [],
   "source": [
    "def get_band_gap(band_data: pd.DataFrame) -> float:\n",
    "    \"\"\"Compute the band gap energy\n",
    "\n",
    "    Args:\n",
    "        band_gap: Band data\n",
    "    Returns:\n",
    "        Band gap\n",
    "    \"\"\"\n",
    "\n",
    "    homo = band_data.query('Occupation > 0.99')['Energy'].max()\n",
    "    lumo = band_data.query(f'Occupation < 0.01 and Energy > {homo}')['Energy'].min()\n",
    "    return lumo - homo"
   ]
  },
  {
   "cell_type": "code",
   "execution_count": 6,
   "id": "1653d384-64ac-472c-bb63-42317017f66a",
   "metadata": {},
   "outputs": [
    {
     "data": {
      "text/plain": [
       "0.102524"
      ]
     },
     "execution_count": 6,
     "metadata": {},
     "output_type": "execute_result"
    }
   ],
   "source": [
    "get_band_gap(band_data)"
   ]
  },
  {
   "cell_type": "code",
   "execution_count": 7,
   "id": "354782bc-13f4-4e24-86c1-270d55a62f2d",
   "metadata": {},
   "outputs": [
    {
     "data": {
      "text/plain": [
       "-0.29490905979167886"
      ]
     },
     "execution_count": 7,
     "metadata": {},
     "output_type": "execute_result"
    }
   ],
   "source": [
    "get_band_center(band_data.query('elem == \"O\"')) - e_fermi"
   ]
  },
  {
   "cell_type": "markdown",
   "id": "166e6c0e-b81f-4ff7-9669-fbc3d3cc3c77",
   "metadata": {},
   "source": [
    "## Get it for all materials\n",
    "Find all tar files and save accordingly"
   ]
  },
  {
   "cell_type": "code",
   "execution_count": 15,
   "id": "66134f43-838e-42b0-be81-d86e89f30cf0",
   "metadata": {},
   "outputs": [
    {
     "name": "stderr",
     "output_type": "stream",
     "text": [
      "17it [00:01,  9.90it/s]"
     ]
    },
    {
     "name": "stdout",
     "output_type": "stream",
     "text": [
      "Loaded 17 band structures\n"
     ]
    },
    {
     "name": "stderr",
     "output_type": "stream",
     "text": [
      "\n"
     ]
    },
    {
     "data": {
      "text/html": [
       "<div>\n",
       "<style scoped>\n",
       "    .dataframe tbody tr th:only-of-type {\n",
       "        vertical-align: middle;\n",
       "    }\n",
       "\n",
       "    .dataframe tbody tr th {\n",
       "        vertical-align: top;\n",
       "    }\n",
       "\n",
       "    .dataframe thead th {\n",
       "        text-align: right;\n",
       "    }\n",
       "</style>\n",
       "<table border=\"1\" class=\"dataframe\">\n",
       "  <thead>\n",
       "    <tr style=\"text-align: right;\">\n",
       "      <th></th>\n",
       "      <th>name</th>\n",
       "      <th>comp</th>\n",
       "      <th>center</th>\n",
       "      <th>gap</th>\n",
       "    </tr>\n",
       "  </thead>\n",
       "  <tbody>\n",
       "    <tr>\n",
       "      <th>14</th>\n",
       "      <td>(Tm7Ce1)AlO3</td>\n",
       "      <td>Al8CeTm7O24</td>\n",
       "      <td>-8.154521</td>\n",
       "      <td>0.016952</td>\n",
       "    </tr>\n",
       "    <tr>\n",
       "      <th>9</th>\n",
       "      <td>TbCrO3</td>\n",
       "      <td>CrTbO3</td>\n",
       "      <td>-9.244830</td>\n",
       "      <td>0.025660</td>\n",
       "    </tr>\n",
       "    <tr>\n",
       "      <th>2</th>\n",
       "      <td>Tb(Al7Cr1)O3</td>\n",
       "      <td>Al7CrTb8O24</td>\n",
       "      <td>-9.071201</td>\n",
       "      <td>0.080436</td>\n",
       "    </tr>\n",
       "    <tr>\n",
       "      <th>13</th>\n",
       "      <td>TmAlO3</td>\n",
       "      <td>AlTmO3</td>\n",
       "      <td>-5.862910</td>\n",
       "      <td>0.135103</td>\n",
       "    </tr>\n",
       "    <tr>\n",
       "      <th>0</th>\n",
       "      <td>Ce(Al7Tb1)O3</td>\n",
       "      <td>Al7Ce8TbO24</td>\n",
       "      <td>-7.660871</td>\n",
       "      <td>0.162395</td>\n",
       "    </tr>\n",
       "  </tbody>\n",
       "</table>\n",
       "</div>"
      ],
      "text/plain": [
       "            name         comp    center       gap\n",
       "14  (Tm7Ce1)AlO3  Al8CeTm7O24 -8.154521  0.016952\n",
       "9         TbCrO3       CrTbO3 -9.244830  0.025660\n",
       "2   Tb(Al7Cr1)O3  Al7CrTb8O24 -9.071201  0.080436\n",
       "13        TmAlO3       AlTmO3 -5.862910  0.135103\n",
       "0   Ce(Al7Tb1)O3  Al7Ce8TbO24 -7.660871  0.162395"
      ]
     },
     "execution_count": 15,
     "metadata": {},
     "output_type": "execute_result"
    }
   ],
   "source": [
    "pband_centers = []\n",
    "for path in tqdm(Path('atoms-relax/').glob('*/2-cells/pdos.pbe-plus-u.tar.gz')):\n",
    "    # Load the band structure data\n",
    "    name = path.parts[1]\n",
    "    band_data, e_fermi = read_band_structure(path)\n",
    "    center = get_band_center(band_data.query('elem == \"O\"')) - e_fermi\n",
    "    gap = get_band_gap(band_data)\n",
    "\n",
    "    # Load the composition\n",
    "    traj_path = path.parent / 'relax.traj'\n",
    "    atoms = read(traj_path, -1)\n",
    "    comp = atoms.get_chemical_formula('metal', True)\n",
    "    \n",
    "    pband_centers.append({\n",
    "        'name': name,\n",
    "        'comp': comp,\n",
    "        'center': center * 27.211,  # Convert to eV\n",
    "        'gap': gap * 27.211 \n",
    "    })\n",
    "pband_centers = pd.DataFrame(pband_centers)\n",
    "print(f'Loaded {len(pband_centers)} band structures')\n",
    "pband_centers.sort_values('gap').head()"
   ]
  },
  {
   "cell_type": "markdown",
   "id": "ff14b223-06cd-4e24-850e-c6af499523d3",
   "metadata": {},
   "source": [
    "Save the band center data"
   ]
  },
  {
   "cell_type": "code",
   "execution_count": 11,
   "id": "73486a6d-4c9e-4471-8739-748fe00ee73d",
   "metadata": {},
   "outputs": [],
   "source": [
    "pband_centers.to_csv('band-centers.csv', index=False)"
   ]
  },
  {
   "cell_type": "code",
   "execution_count": null,
   "id": "1891a48a-1334-4798-bd65-f80f2a16ac4a",
   "metadata": {},
   "outputs": [],
   "source": []
  },
  {
   "cell_type": "code",
   "execution_count": null,
   "id": "bdd4c58b-cd27-4964-a22b-d5b9c06b4416",
   "metadata": {},
   "outputs": [],
   "source": []
  }
 ],
 "metadata": {
  "kernelspec": {
   "display_name": "Python 3 (ipykernel)",
   "language": "python",
   "name": "python3"
  },
  "language_info": {
   "codemirror_mode": {
    "name": "ipython",
    "version": 3
   },
   "file_extension": ".py",
   "mimetype": "text/x-python",
   "name": "python",
   "nbconvert_exporter": "python",
   "pygments_lexer": "ipython3",
   "version": "3.10.0"
  }
 },
 "nbformat": 4,
 "nbformat_minor": 5
}
