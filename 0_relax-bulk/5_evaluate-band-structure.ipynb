{
 "cells": [
  {
   "cell_type": "markdown",
   "id": "43e56a88-b1a1-4d06-aa3b-c459a4ebc664",
   "metadata": {},
   "source": [
    "# Evalaute the Band Structure\n",
    "Get the band gap energy and the center of the 2p band"
   ]
  },
  {
   "cell_type": "code",
   "execution_count": 1,
   "id": "bf485c5c-c5e3-457f-a071-87dfa4580b30",
   "metadata": {},
   "outputs": [],
   "source": [
    "from tarfile import TarFile\n",
    "from pathlib import Path\n",
    "from ase.io import read\n",
    "from tqdm import tqdm\n",
    "import pandas as pd\n",
    "import numpy as np"
   ]
  },
  {
   "cell_type": "markdown",
   "id": "ac063187-4d8a-4d73-b94f-ab7f97b91a55",
   "metadata": {},
   "source": [
    "## Make loading functions\n",
    "We need a function to load the band structure data then functions to read out the band gap energy and band centers."
   ]
  },
  {
   "cell_type": "code",
   "execution_count": 2,
   "id": "faa9b8e6-5e2f-4236-8553-c0c15a38f757",
   "metadata": {},
   "outputs": [],
   "source": [
    "def read_band_structure(tar_path) -> tuple[pd.DataFrame, float]:\n",
    "    \"\"\"\"Read the band structure from a tar file of pdos files from CP2K\n",
    "\n",
    "    Args:\n",
    "        tar_path: Path to the tar file containing the data\n",
    "    Returns:\n",
    "        - A DataFrame containing all atom kinds and types\n",
    "        - Fermi level (a.u.)\n",
    "    \"\"\"\n",
    "\n",
    "    kinds = []\n",
    "    with TarFile.gzopen(tar_path) as tar:\n",
    "        for member in tar.getmembers():\n",
    "            # Read the top of the file\n",
    "            with tar.extractfile(member) as fp:\n",
    "                # Header with the kind information\n",
    "                first_line = fp.readline().decode().split()\n",
    "                elem = first_line[6]\n",
    "                e_fermi = float(first_line[-2])\n",
    "\n",
    "                # Header with the column names\n",
    "                columns = ['MO', 'Energy'] + fp.readline().decode().split()[4:]\n",
    "\n",
    "            with tar.extractfile(member) as fp:\n",
    "                data = pd.read_csv(fp, skiprows=2, sep='\\s+', names=columns)\n",
    "                data['elem'] = elem\n",
    "                data['alpha'] = 'ALPHA' in member.name\n",
    "                kinds.append(data)\n",
    "\n",
    "    return pd.concat(kinds, axis=0, ignore_index=True), e_fermi"
   ]
  },
  {
   "cell_type": "code",
   "execution_count": 3,
   "id": "7e69ba51-ae71-4052-aaa4-1ff1e0e4ec5f",
   "metadata": {},
   "outputs": [],
   "source": [
    "band_data, e_fermi = read_band_structure('atoms-relax/CeAlO3/2-cells/pdos.pbe-plus-u.tar.gz')"
   ]
  },
  {
   "cell_type": "code",
   "execution_count": 4,
   "id": "8505ed40-531b-4353-8130-d3e54ddd1117",
   "metadata": {},
   "outputs": [],
   "source": [
    "def get_band_center(band_data, orbitals: list[str] = ['px', 'py', 'pz']):\n",
    "    \"\"\"Get the band center for all available orbitals\n",
    "\n",
    "    Args:\n",
    "        band_data: Band data of interest\n",
    "        orbitals: Which orbitals to sum\n",
    "    Returns:\n",
    "        The weighted mean of the energies of the target orbitals (a.u.)\n",
    "    \"\"\"\n",
    "\n",
    "    return np.dot(\n",
    "        band_data[orbitals].sum(axis=1) * \n",
    "        band_data['Occupation'],\n",
    "        band_data['Energy'],\n",
    "    ) / band_data[orbitals].values.sum()"
   ]
  },
  {
   "cell_type": "code",
   "execution_count": 5,
   "id": "0c7a6915-bb9e-47cd-9303-b26466143213",
   "metadata": {},
   "outputs": [],
   "source": [
    "def get_band_gap(band_data: pd.DataFrame) -> float:\n",
    "    \"\"\"Compute the band gap energy\n",
    "\n",
    "    Args:\n",
    "        band_gap: Band data\n",
    "    Returns:\n",
    "        Band gap\n",
    "    \"\"\"\n",
    "\n",
    "    homo = band_data.query('Occupation > 0.99')['Energy'].max()\n",
    "    lumo = band_data.query(f'Occupation < 0.01 and Energy > {homo}')['Energy'].min()\n",
    "    return lumo - homo"
   ]
  },
  {
   "cell_type": "code",
   "execution_count": 6,
   "id": "1653d384-64ac-472c-bb63-42317017f66a",
   "metadata": {},
   "outputs": [
    {
     "data": {
      "text/plain": [
       "0.102524"
      ]
     },
     "execution_count": 6,
     "metadata": {},
     "output_type": "execute_result"
    }
   ],
   "source": [
    "get_band_gap(band_data)"
   ]
  },
  {
   "cell_type": "code",
   "execution_count": 7,
   "id": "354782bc-13f4-4e24-86c1-270d55a62f2d",
   "metadata": {},
   "outputs": [
    {
     "data": {
      "text/plain": [
       "-0.2949090599461517"
      ]
     },
     "execution_count": 7,
     "metadata": {},
     "output_type": "execute_result"
    }
   ],
   "source": [
    "get_band_center(band_data.query('elem == \"O\"')) - e_fermi"
   ]
  },
  {
   "cell_type": "markdown",
   "id": "166e6c0e-b81f-4ff7-9669-fbc3d3cc3c77",
   "metadata": {},
   "source": [
    "## Get it for all materials\n",
    "Find all tar files and save accordingly"
   ]
  },
  {
   "cell_type": "code",
   "execution_count": 8,
   "id": "66134f43-838e-42b0-be81-d86e89f30cf0",
   "metadata": {},
   "outputs": [
    {
     "name": "stderr",
     "output_type": "stream",
     "text": [
      "114it [00:06, 16.56it/s]"
     ]
    },
    {
     "name": "stdout",
     "output_type": "stream",
     "text": [
      "Loaded 114 band structures\n"
     ]
    },
    {
     "name": "stderr",
     "output_type": "stream",
     "text": [
      "\n"
     ]
    },
    {
     "data": {
      "text/html": [
       "<div>\n",
       "<style scoped>\n",
       "    .dataframe tbody tr th:only-of-type {\n",
       "        vertical-align: middle;\n",
       "    }\n",
       "\n",
       "    .dataframe tbody tr th {\n",
       "        vertical-align: top;\n",
       "    }\n",
       "\n",
       "    .dataframe thead th {\n",
       "        text-align: right;\n",
       "    }\n",
       "</style>\n",
       "<table border=\"1\" class=\"dataframe\">\n",
       "  <thead>\n",
       "    <tr style=\"text-align: right;\">\n",
       "      <th></th>\n",
       "      <th>name</th>\n",
       "      <th>comp</th>\n",
       "      <th>center</th>\n",
       "      <th>gap</th>\n",
       "    </tr>\n",
       "  </thead>\n",
       "  <tbody>\n",
       "    <tr>\n",
       "      <th>95</th>\n",
       "      <td>YbMnO3</td>\n",
       "      <td>MnYbO3</td>\n",
       "      <td>-8.222623</td>\n",
       "      <td>0.000354</td>\n",
       "    </tr>\n",
       "    <tr>\n",
       "      <th>22</th>\n",
       "      <td>Yb(Mn7Mo1)O3</td>\n",
       "      <td>Mn7MoYb8O24</td>\n",
       "      <td>-8.275702</td>\n",
       "      <td>0.001333</td>\n",
       "    </tr>\n",
       "    <tr>\n",
       "      <th>16</th>\n",
       "      <td>KReO3</td>\n",
       "      <td>KReO3</td>\n",
       "      <td>-9.027639</td>\n",
       "      <td>0.001415</td>\n",
       "    </tr>\n",
       "    <tr>\n",
       "      <th>75</th>\n",
       "      <td>CaRhO3</td>\n",
       "      <td>CaRhO3</td>\n",
       "      <td>-6.847220</td>\n",
       "      <td>0.001932</td>\n",
       "    </tr>\n",
       "    <tr>\n",
       "      <th>53</th>\n",
       "      <td>(K7Na1)ReO3</td>\n",
       "      <td>K7NaRe8O24</td>\n",
       "      <td>-9.037867</td>\n",
       "      <td>0.003320</td>\n",
       "    </tr>\n",
       "  </tbody>\n",
       "</table>\n",
       "</div>"
      ],
      "text/plain": [
       "            name         comp    center       gap\n",
       "95        YbMnO3       MnYbO3 -8.222623  0.000354\n",
       "22  Yb(Mn7Mo1)O3  Mn7MoYb8O24 -8.275702  0.001333\n",
       "16         KReO3        KReO3 -9.027639  0.001415\n",
       "75        CaRhO3       CaRhO3 -6.847220  0.001932\n",
       "53   (K7Na1)ReO3   K7NaRe8O24 -9.037867  0.003320"
      ]
     },
     "execution_count": 8,
     "metadata": {},
     "output_type": "execute_result"
    }
   ],
   "source": [
    "pband_centers = []\n",
    "for path in tqdm(Path('atoms-relax/').glob('*/2-cells/pdos.pbe-plus-u.tar.gz')):\n",
    "    # Load the band structure data\n",
    "    name = path.parts[1]\n",
    "    band_data, e_fermi = read_band_structure(path)\n",
    "    center = get_band_center(band_data.query('elem == \"O\"')) - e_fermi\n",
    "    gap = get_band_gap(band_data)\n",
    "\n",
    "    # Load the composition\n",
    "    traj_path = path.parent / 'relax.traj'\n",
    "    atoms = read(traj_path, -1)\n",
    "    comp = atoms.get_chemical_formula('metal', True)\n",
    "    \n",
    "    pband_centers.append({\n",
    "        'name': name,\n",
    "        'comp': comp,\n",
    "        'center': center * 27.211,  # Convert to eV\n",
    "        'gap': gap * 27.211 \n",
    "    })\n",
    "pband_centers = pd.DataFrame(pband_centers)\n",
    "print(f'Loaded {len(pband_centers)} band structures')\n",
    "pband_centers.sort_values('gap').head()"
   ]
  },
  {
   "cell_type": "markdown",
   "id": "ff14b223-06cd-4e24-850e-c6af499523d3",
   "metadata": {},
   "source": [
    "Save the band center data"
   ]
  },
  {
   "cell_type": "code",
   "execution_count": 9,
   "id": "73486a6d-4c9e-4471-8739-748fe00ee73d",
   "metadata": {},
   "outputs": [],
   "source": [
    "pband_centers.to_csv('band-centers.csv', index=False)"
   ]
  }
 ],
 "metadata": {
  "kernelspec": {
   "display_name": "Python 3 (ipykernel)",
   "language": "python",
   "name": "python3"
  },
  "language_info": {
   "codemirror_mode": {
    "name": "ipython",
    "version": 3
   },
   "file_extension": ".py",
   "mimetype": "text/x-python",
   "name": "python",
   "nbconvert_exporter": "python",
   "pygments_lexer": "ipython3",
   "version": "3.10.0"
  }
 },
 "nbformat": 4,
 "nbformat_minor": 5
}
