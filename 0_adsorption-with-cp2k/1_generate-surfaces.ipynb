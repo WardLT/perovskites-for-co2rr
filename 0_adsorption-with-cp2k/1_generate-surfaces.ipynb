{
 "cells": [
  {
   "cell_type": "markdown",
   "id": "fba20aac-3b71-49c7-a1ec-9d441d25e572",
   "metadata": {},
   "source": [
    "# Generate Unrelaxed Surfaces\n",
    "Follow the strategy described by [Lazaro et al.](https://www.sciencedirect.com/science/article/pii/S0039602804000421#FIG2) to make symmetric 2D slabs."
   ]
  },
  {
   "cell_type": "code",
   "execution_count": 1,
   "id": "07e0242f-77a4-475b-b560-8c94f511afb9",
   "metadata": {
    "tags": []
   },
   "outputs": [],
   "source": [
    "from pathlib import Path\n",
    "from ase.db import connect\n",
    "import numpy as np\n",
    "import json"
   ]
  },
  {
   "cell_type": "markdown",
   "id": "0313ffbe-612c-4902-ad75-7020ec6feed3",
   "metadata": {},
   "source": [
    "Configuration"
   ]
  },
  {
   "cell_type": "code",
   "execution_count": 2,
   "id": "63abefda-dd14-4575-80ec-702831ff7543",
   "metadata": {
    "tags": []
   },
   "outputs": [],
   "source": [
    "facet: tuple[int, int, int] = (1, 0, 0)  # Which surface to use\n",
    "supercell: tuple[int, int] = (1, 1)  # Size of the supercell\n",
    "layers: int = 2  # Number of unit layers for the slab (3 is what Lazaro found as sufficient)\n",
    "name: str = 'AgBiO3'"
   ]
  },
  {
   "cell_type": "code",
   "execution_count": 3,
   "id": "169a7d3c-60c1-4229-8832-8995669bfb3c",
   "metadata": {},
   "outputs": [],
   "source": [
    "assert facet == (1, 0, 0)  # Haven't implemented the others yet"
   ]
  },
  {
   "cell_type": "markdown",
   "id": "bba219d4-a66b-4a3f-ab36-5ac40359d449",
   "metadata": {},
   "source": [
    "## Load in the Structure\n",
    "From the relaxed database"
   ]
  },
  {
   "cell_type": "code",
   "execution_count": 4,
   "id": "3dc5c944-fd50-4667-809a-87679572700b",
   "metadata": {},
   "outputs": [],
   "source": [
    "with connect('cp2k-relax.db') as db:\n",
    "    row = next(db.select(name=name))\n",
    "    atoms = row.toatoms(True)"
   ]
  },
  {
   "cell_type": "code",
   "execution_count": 5,
   "id": "cb88ea1f-79d8-4a18-8d4e-9a2d104ef105",
   "metadata": {},
   "outputs": [],
   "source": [
    "name = atoms.info['key_value_pairs']['name']"
   ]
  },
  {
   "cell_type": "code",
   "execution_count": 6,
   "id": "8fd9554c-1860-48aa-b3fe-47007548b4ff",
   "metadata": {},
   "outputs": [],
   "source": [
    "charges = {\n",
    "    'O': -2,\n",
    "    atoms.info['key_value_pairs']['a']: atoms.info['key_value_pairs']['a_val'],\n",
    "    atoms.info['key_value_pairs']['b']: atoms.info['key_value_pairs']['b_val'],\n",
    "}"
   ]
  },
  {
   "cell_type": "markdown",
   "id": "d613bae2-50da-4ab1-a84f-a5b3bb708917",
   "metadata": {},
   "source": [
    "## Create the Slabs\n",
    "Following [Lazaro et al.](https://www.sciencedirect.com/science/article/pii/S0039602804000421#FIG2), make two slabs: one with the AO2 and the other with a BO2 surfaces."
   ]
  },
  {
   "cell_type": "code",
   "execution_count": 9,
   "id": "38d03c57-ae9b-4a51-b5af-2c61d17d6611",
   "metadata": {},
   "outputs": [],
   "source": [
    "def slabify(atoms, z_duplicates, make_symmetric):\n",
    "    \"\"\"Add a vacuum layer, then copy the bottom layer up to the top\n",
    "\n",
    "    Args:\n",
    "        atoms: Initial supercell\n",
    "        z_duplicates: How many times to duplicate the slab in the z direction\n",
    "        make_symmetric: Whether to ensure the bottom row and top row are the same\n",
    "    \"\"\"\n",
    "\n",
    "    # Make the \n",
    "    output = atoms.copy()\n",
    "    output *= [1, 1, z_duplicates]\n",
    "\n",
    "    # Append a vacuum layer in the Z direction\n",
    "    original_z = output.cell[2, 2]\n",
    "    output.center(vacuum=10, axis=2)\n",
    "\n",
    "    # # Move the bottom row up\n",
    "    if make_symmetric: \n",
    "        bottom_row = output[output.positions[:, 2] < output.positions[:, 2].min() + 0.1].copy()\n",
    "        bottom_row.positions[:, 2] += original_z\n",
    "        assert 'O' in bottom_row.symbols\n",
    "        output.extend(bottom_row)\n",
    "\n",
    "    # Recenter\n",
    "    output.wrap()\n",
    "    output.center(axis=2)\n",
    "    \n",
    "    return output"
   ]
  },
  {
   "cell_type": "markdown",
   "id": "ff092911-3a66-4c86-a2f9-d8176ae140c2",
   "metadata": {},
   "source": [
    "## Save each slab\n",
    "Generate a slab for each of the relaxed structres in `cp2k-relaxed.db`"
   ]
  },
  {
   "cell_type": "code",
   "execution_count": 10,
   "id": "493d9d92-4fb7-4e5b-addc-bc3c86937f3f",
   "metadata": {
    "tags": []
   },
   "outputs": [],
   "source": [
    "with connect('cp2k-relax.db') as db:\n",
    "    for row in db.select():\n",
    "        # Compile cell information\n",
    "        atoms = row.toatoms(True)\n",
    "        name = atoms.info['key_value_pairs']['name']\n",
    "\n",
    "        # Check if already outputted\n",
    "        output_name = f'{name}_{\"\".join(map(str, facet))}_{\"x\".join(map(str, supercell))}_{layers}-layers'\n",
    "        out_dir = Path('surfaces') / output_name\n",
    "        out_dir.mkdir(parents=True, exist_ok=True)\n",
    "\n",
    "        # Assemble the slabs\n",
    "        term_a = slabify(atoms, layers, True)\n",
    "        \n",
    "        term_b = atoms.copy()\n",
    "        term_b.translate([0.0, 0.0, atoms.positions[1, 2] + 0.2])\n",
    "        term_b.wrap()\n",
    "        term_b = slabify(term_b, layers, True)\n",
    "        \n",
    "        for term, slab in enumerate([term_a, term_b]):\n",
    "            # Save the slab and site information\n",
    "            slab_dir = out_dir / f'term={term}'\n",
    "            if slab_dir.exists():\n",
    "                continue\n",
    "            slab_dir.mkdir()\n",
    "\n",
    "            # WRite the unrelaxed coordiantes\n",
    "            slab.write(slab_dir / 'unrelaxed.extxyz', columns=['symbols', 'positions'])"
   ]
  },
  {
   "cell_type": "code",
   "execution_count": null,
   "id": "300f85a9-cdb4-42e9-9088-cc74132b0e71",
   "metadata": {},
   "outputs": [],
   "source": []
  }
 ],
 "metadata": {
  "kernelspec": {
   "display_name": "Python 3 (ipykernel)",
   "language": "python",
   "name": "python3"
  },
  "language_info": {
   "codemirror_mode": {
    "name": "ipython",
    "version": 3
   },
   "file_extension": ".py",
   "mimetype": "text/x-python",
   "name": "python",
   "nbconvert_exporter": "python",
   "pygments_lexer": "ipython3",
   "version": "3.10.0"
  }
 },
 "nbformat": 4,
 "nbformat_minor": 5
}
