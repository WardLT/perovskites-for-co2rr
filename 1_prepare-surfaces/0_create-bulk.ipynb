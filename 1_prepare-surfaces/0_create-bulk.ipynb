{
 "cells": [
  {
   "cell_type": "markdown",
   "id": "a6a0aada-1b9d-4357-beb3-9e512e530e3d",
   "metadata": {},
   "source": [
    "# Relax Bulk with CP2K\n",
    "Use CP2K PBE to relax the lattice parameters of a unit cell"
   ]
  },
  {
   "cell_type": "code",
   "execution_count": null,
   "id": "897e19e7-ff11-45dc-b2aa-0a6d51225fc4",
   "metadata": {
    "tags": []
   },
   "outputs": [],
   "source": [
    "from ase.filters import FrechetCellFilter\n",
    "from ase.constraints import FixAtoms\n",
    "from ase.optimize import BFGS\n",
    "from ase.db import connect\n",
    "from ase import units, Atoms\n",
    "from pathlib import Path\n",
    "from co2rr.emery import generate_initial_structure, load_emery_dataset\n",
    "from co2rr.cp2k import make_calculator\n",
    "import pandas as pd\n",
    "import numpy as np"
   ]
  },
  {
   "cell_type": "markdown",
   "id": "00202102-0409-4e7d-9fba-0136a11c03dd",
   "metadata": {},
   "source": [
    "Configuration"
   ]
  },
  {
   "cell_type": "code",
   "execution_count": null,
   "id": "5fec8734-89c1-41b8-a37e-b8da0bb8e255",
   "metadata": {
    "tags": []
   },
   "outputs": [],
   "source": [
    "out_dir = Path('relaxed-bulk')\n",
    "skip_elems = []"
   ]
  },
  {
   "cell_type": "markdown",
   "id": "bd07051c-a402-463d-bc22-eb807bcbbc11",
   "metadata": {},
   "source": [
    "## Load the Emery Dataset\n",
    "The dataset with unstable and actinides filtered out"
   ]
  },
  {
   "cell_type": "code",
   "execution_count": null,
   "id": "8c9b2dd2-365a-4569-b7b4-18975f02d2d6",
   "metadata": {},
   "outputs": [],
   "source": [
    "emery = load_emery_dataset()"
   ]
  },
  {
   "cell_type": "code",
   "execution_count": null,
   "id": "4172181c-781e-49c1-a087-0c0531b3d55e",
   "metadata": {},
   "outputs": [],
   "source": [
    "emery.iloc[0]"
   ]
  },
  {
   "cell_type": "code",
   "execution_count": null,
   "id": "b241a0d3-eba5-454d-9440-a2ecf20c5e6e",
   "metadata": {},
   "outputs": [],
   "source": [
    "emery[['Chemical formula', 'In literature', 'Valence A', 'Valence B', 'Stability [eV/atom]']]"
   ]
  },
  {
   "cell_type": "markdown",
   "id": "476ff1bc-f4f7-483a-b768-d2460b97970d",
   "metadata": {},
   "source": [
    "## Run the optimization\n",
    "Make ASE calculators with our target settings then relax just the lattice parameter."
   ]
  },
  {
   "cell_type": "code",
   "execution_count": null,
   "id": "a0773854-b367-4ed8-9b11-7261535ee991",
   "metadata": {
    "scrolled": true,
    "tags": []
   },
   "outputs": [],
   "source": [
    "for _, row in emery.iterrows():\n",
    "    # Check if it's already done\n",
    "    name=row['Chemical formula']\n",
    "    with connect('cp2k-relax.db') as db:\n",
    "        if db.count(f'name={name} and supercell={args.supercell_size}') > 0:\n",
    "            continue\n",
    "\n",
    "    # Skip bad elements\n",
    "    if row['A'] in skip_elems or row['B'] in skip_elems:\n",
    "        continue\n",
    "\n",
    "    # Run, if needed\n",
    "    atoms = generate_initial_structure(row)\n",
    "    with make_calculator(atoms, cutoff=600, max_scf=500) as calc:\n",
    "        # Delete the old run\n",
    "        for f in ['cp2k.out', 'relax.log']:\n",
    "            Path(f'run/{f}').write_text(\"\")  # Clear it\n",
    "\n",
    "        # Start by computing the stresses acting on the cell\n",
    "        calc.directory = 'run'\n",
    "        atoms.calc = calc\n",
    "        stresses = atoms.get_stress()\n",
    "        print(f'{name} - Initial volume: {atoms.get_volume()}. Stress: {stresses[:3].sum() / 3:.2f}')\n",
    "        \n",
    "        # Run the optimization\n",
    "        atoms.set_constraint(FixAtoms(mask=[True] * len(atoms)))\n",
    "        opt_atoms = FrechetCellFilter(atoms, hydrostatic_strain=True)  # Allow ASE to optimize the lattice parameter\n",
    "        opt = BFGS(opt_atoms, trajectory='run/relax.traj', logfile='run/relax.log')\n",
    "        opt.run(fmax=0.1)\n",
    "        stresses = atoms.get_stress()\n",
    "        print(f'{name} - Final volume: {atoms.get_volume()}. Stress: {stresses[:3].sum() / 3:.2f}')\n",
    "\n",
    "        atoms.set_constraint()\n",
    "\n",
    "    # Write to the output\n",
    "    with connect('cp2k-relax.db') as db:\n",
    "        try:\n",
    "            a_val, b_val= int(row['Valence A']), int(row['Valence B'])\n",
    "        except ValueError:\n",
    "            a_val = b_val = -1\n",
    "        db.write(atoms, name=name, a=row['A'], b=row['B'], a_val=a_val, b_val=b_val)"
   ]
  },
  {
   "cell_type": "code",
   "execution_count": null,
   "id": "934885d6-c76f-410b-b744-a5cd1d660f90",
   "metadata": {},
   "outputs": [],
   "source": []
  }
 ],
 "metadata": {
  "kernelspec": {
   "display_name": "Python 3 (ipykernel)",
   "language": "python",
   "name": "python3"
  },
  "language_info": {
   "codemirror_mode": {
    "name": "ipython",
    "version": 3
   },
   "file_extension": ".py",
   "mimetype": "text/x-python",
   "name": "python",
   "nbconvert_exporter": "python",
   "pygments_lexer": "ipython3",
   "version": "3.10.0"
  }
 },
 "nbformat": 4,
 "nbformat_minor": 5
}
