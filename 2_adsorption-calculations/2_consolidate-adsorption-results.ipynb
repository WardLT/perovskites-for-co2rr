{
 "cells": [
  {
   "cell_type": "markdown",
   "id": "1511d551-9da8-4f50-b5ae-4b9b87fec534",
   "metadata": {},
   "source": [
    "# Consolidate Adsorption Results\n",
    "Summarize the adsorption energy by composition, surface type, and bond position"
   ]
  },
  {
   "cell_type": "code",
   "execution_count": 1,
   "id": "d4c00650-07cd-4f48-ac87-db99615d397c",
   "metadata": {},
   "outputs": [],
   "source": [
    "%matplotlib inline\n",
    "from matplotlib import pyplot as plt\n",
    "from pathlib import Path\n",
    "from ase.db import connect\n",
    "from ase.io import read\n",
    "import pandas as pd\n",
    "import numpy as np\n",
    "import json"
   ]
  },
  {
   "cell_type": "markdown",
   "id": "71e6a742-9223-46ec-a025-90d8ecf87081",
   "metadata": {},
   "source": [
    "Configuration"
   ]
  },
  {
   "cell_type": "code",
   "execution_count": 2,
   "id": "d3c55df9-e4b3-4004-9374-28e93543e9d7",
   "metadata": {},
   "outputs": [],
   "source": [
    "width: int = 2  # Number of repeat units in slab directions"
   ]
  },
  {
   "cell_type": "code",
   "execution_count": 3,
   "id": "948b4634-9c66-4fc6-94b7-4fb7bcf3fcef",
   "metadata": {},
   "outputs": [],
   "source": [
    "co2_energy = json.loads(Path('co2-molecule/co2.json').read_text())['energy']"
   ]
  },
  {
   "cell_type": "markdown",
   "id": "f14edb9c-f89c-4036-9743-7267f423d70c",
   "metadata": {},
   "source": [
    "## Get Lookup Table for Bulk Properties\n",
    "Get the site information for each structure based on the name"
   ]
  },
  {
   "cell_type": "code",
   "execution_count": 4,
   "id": "a8bb5d6e-7e93-42a6-874a-e9d8ed5cdace",
   "metadata": {},
   "outputs": [],
   "source": [
    "bulk_info = {}  # Name -> key_value_pairs\n",
    "with connect('../0_relax-bulk/volume-relax.db') as db:\n",
    "    for row in db.select(supercell=width):\n",
    "        kv = row.key_value_pairs.copy()\n",
    "        name = kv.pop('name')\n",
    "        bulk_info[name] = kv"
   ]
  },
  {
   "cell_type": "code",
   "execution_count": 5,
   "id": "27987555-5d63-480a-8adc-b66dd885384f",
   "metadata": {},
   "outputs": [
    {
     "data": {
      "text/plain": [
       "('CeAlO3', {'a': 'Ce', 'b': 'Al', 'a_val': 3, 'b_val': 3, 'supercell': 2})"
      ]
     },
     "execution_count": 5,
     "metadata": {},
     "output_type": "execute_result"
    }
   ],
   "source": [
    "next(iter(bulk_info.items()))"
   ]
  },
  {
   "cell_type": "markdown",
   "id": "fa21dd2f-13bb-4193-b17f-4f4ab65c85b2",
   "metadata": {},
   "source": [
    "## Load the Surface Data\n",
    "Find the relaxed structures "
   ]
  },
  {
   "cell_type": "code",
   "execution_count": 6,
   "id": "3d21d5d8-2ab3-4eab-a72b-07cff55c98b6",
   "metadata": {},
   "outputs": [
    {
     "name": "stdout",
     "output_type": "stream",
     "text": [
      "Completed 347 adsorption calculations\n"
     ]
    }
   ],
   "source": [
    "adsorbates = []\n",
    "for relaxed_path in Path('adsorbate/').rglob(f'width-{width}/*/relaxed.extxyz'):\n",
    "    # Start with a summary based on the path\n",
    "    _, cell_dir, term, _, site, _ = relaxed_path.parts\n",
    "    comp = cell_dir.split(\"_\")[0]  # Bulk composition\n",
    "    term = int(term.split(\"=\")[1])\n",
    "    record = {\n",
    "        'comp': comp,\n",
    "        'term': term,\n",
    "        'site': site,\n",
    "    }\n",
    "\n",
    "    # Get the composition of the surface\n",
    "    relaxed = read(relaxed_path)\n",
    "    top_layer_z = relaxed.positions[:-3, :].max()  # highest point without the CO2\n",
    "    top_layer = relaxed[relaxed.positions[:, 2] > top_layer_z - 1.][:-3]\n",
    "    record['surface_comp'] = top_layer.get_chemical_formula('metal', empirical=True)\n",
    "\n",
    "    # Get the identity of the atom being bonded to\n",
    "    start_data = json.loads((relaxed_path.parent / 'metadata.json').read_text())\n",
    "    record['site_atom'] = start_data['bond_atom']\n",
    "\n",
    "    # Get the charge of the metal on the surface\n",
    "    my_bulk = bulk_info[comp]\n",
    "    record['site_charge'] = my_bulk['a_val'] if record['site_atom'] == my_bulk['a'] else my_bulk['b_val']\n",
    "\n",
    "    # Get the adsorption energy\n",
    "    relaxed_eng = relaxed.get_potential_energy()\n",
    "    record['adsorption_energy'] = relaxed_eng - start_data['expected_eng']\n",
    "\n",
    "    adsorbates.append(record)\n",
    "adsorbates = pd.DataFrame(adsorbates)\n",
    "print(f'Completed {len(adsorbates)} adsorption calculations')"
   ]
  },
  {
   "cell_type": "code",
   "execution_count": 7,
   "id": "2eb6ff82-3828-4893-85cc-91bccbd6abf7",
   "metadata": {},
   "outputs": [
    {
     "data": {
      "text/html": [
       "<div>\n",
       "<style scoped>\n",
       "    .dataframe tbody tr th:only-of-type {\n",
       "        vertical-align: middle;\n",
       "    }\n",
       "\n",
       "    .dataframe tbody tr th {\n",
       "        vertical-align: top;\n",
       "    }\n",
       "\n",
       "    .dataframe thead th {\n",
       "        text-align: right;\n",
       "    }\n",
       "</style>\n",
       "<table border=\"1\" class=\"dataframe\">\n",
       "  <thead>\n",
       "    <tr style=\"text-align: right;\">\n",
       "      <th></th>\n",
       "      <th>comp</th>\n",
       "      <th>term</th>\n",
       "      <th>site</th>\n",
       "      <th>surface_comp</th>\n",
       "      <th>site_atom</th>\n",
       "      <th>site_charge</th>\n",
       "      <th>adsorption_energy</th>\n",
       "    </tr>\n",
       "  </thead>\n",
       "  <tbody>\n",
       "    <tr>\n",
       "      <th>0</th>\n",
       "      <td>NiPtO3</td>\n",
       "      <td>0</td>\n",
       "      <td>mono_metal</td>\n",
       "      <td>NiO2</td>\n",
       "      <td>Ni</td>\n",
       "      <td>-1</td>\n",
       "      <td>-0.096418</td>\n",
       "    </tr>\n",
       "    <tr>\n",
       "      <th>1</th>\n",
       "      <td>NiPtO3</td>\n",
       "      <td>0</td>\n",
       "      <td>pi_oxygen</td>\n",
       "      <td>NiO2</td>\n",
       "      <td>Ni</td>\n",
       "      <td>-1</td>\n",
       "      <td>-0.103788</td>\n",
       "    </tr>\n",
       "    <tr>\n",
       "      <th>2</th>\n",
       "      <td>LaFeO3</td>\n",
       "      <td>0</td>\n",
       "      <td>mono_metal</td>\n",
       "      <td>LaO</td>\n",
       "      <td>La</td>\n",
       "      <td>3</td>\n",
       "      <td>0.398794</td>\n",
       "    </tr>\n",
       "    <tr>\n",
       "      <th>3</th>\n",
       "      <td>LaFeO3</td>\n",
       "      <td>0</td>\n",
       "      <td>pi_metal</td>\n",
       "      <td>LaO</td>\n",
       "      <td>La</td>\n",
       "      <td>3</td>\n",
       "      <td>0.285397</td>\n",
       "    </tr>\n",
       "    <tr>\n",
       "      <th>4</th>\n",
       "      <td>TbAlO3</td>\n",
       "      <td>0</td>\n",
       "      <td>mono_metal</td>\n",
       "      <td>TbO</td>\n",
       "      <td>Tb</td>\n",
       "      <td>3</td>\n",
       "      <td>16.352424</td>\n",
       "    </tr>\n",
       "  </tbody>\n",
       "</table>\n",
       "</div>"
      ],
      "text/plain": [
       "     comp  term        site surface_comp site_atom  site_charge  \\\n",
       "0  NiPtO3     0  mono_metal         NiO2        Ni           -1   \n",
       "1  NiPtO3     0   pi_oxygen         NiO2        Ni           -1   \n",
       "2  LaFeO3     0  mono_metal          LaO        La            3   \n",
       "3  LaFeO3     0    pi_metal          LaO        La            3   \n",
       "4  TbAlO3     0  mono_metal          TbO        Tb            3   \n",
       "\n",
       "   adsorption_energy  \n",
       "0          -0.096418  \n",
       "1          -0.103788  \n",
       "2           0.398794  \n",
       "3           0.285397  \n",
       "4          16.352424  "
      ]
     },
     "execution_count": 7,
     "metadata": {},
     "output_type": "execute_result"
    }
   ],
   "source": [
    "adsorbates.head()"
   ]
  },
  {
   "cell_type": "markdown",
   "id": "0bf16cb8-a2ac-4cb8-bd91-08b7413927c4",
   "metadata": {},
   "source": [
    "Save it to disk"
   ]
  },
  {
   "cell_type": "code",
   "execution_count": 8,
   "id": "e7056cb2-5d48-41f6-9216-c953b5a3a505",
   "metadata": {},
   "outputs": [],
   "source": [
    "adsorbates.to_csv('adsorbates.csv', index=False)"
   ]
  },
  {
   "cell_type": "markdown",
   "id": "0194597e-a2e8-4b9e-8db7-ec10b7e2e88f",
   "metadata": {},
   "source": [
    "## Compare Energies by Configuration\n",
    "Find out if running all the configurations is necessary to find one which bonds"
   ]
  },
  {
   "cell_type": "code",
   "execution_count": 9,
   "id": "f9f17617-da91-4952-88f4-47acb551e429",
   "metadata": {},
   "outputs": [
    {
     "data": {
      "image/png": "[encoded data removed]",
      "text/plain": [
       "<Figure size 450x250 with 4 Axes>"
      ]
     },
     "metadata": {},
     "output_type": "display_data"
    }
   ],
   "source": [
    "fig, axs = plt.subplots(2, 2, figsize=(4.5, 2.5), sharex=True)\n",
    "\n",
    "bins = np.linspace(\n",
    "    np.floor(np.percentile(adsorbates['adsorption_energy'], 10)),\n",
    "    np.ceil(np.percentile(adsorbates['adsorption_energy'], 90)),\n",
    "    32\n",
    ")\n",
    "for (gid, group), ax in zip(adsorbates.groupby('site'), axs.flatten()):\n",
    "    ax.text(0.95, 0.9, gid, transform=ax.transAxes, ha='right', fontsize=8)\n",
    "\n",
    "    ax.hist(group['adsorption_energy'], bins=bins)\n",
    "\n",
    "for ax in axs[:, 0]:\n",
    "    ax.set_ylabel('Count')\n",
    "for ax in axs[-1, :]:\n",
    "    ax.set_xlabel('Energy (eV)')\n",
    "\n",
    "fig.tight_layout()"
   ]
  },
  {
   "cell_type": "code",
   "execution_count": null,
   "id": "0f1a45d1-13b6-4268-a452-d5a351579cca",
   "metadata": {},
   "outputs": [],
   "source": []
  }
 ],
 "metadata": {
  "kernelspec": {
   "display_name": "Python 3 (ipykernel)",
   "language": "python",
   "name": "python3"
  },
  "language_info": {
   "codemirror_mode": {
    "name": "ipython",
    "version": 3
   },
   "file_extension": ".py",
   "mimetype": "text/x-python",
   "name": "python",
   "nbconvert_exporter": "python",
   "pygments_lexer": "ipython3",
   "version": "3.10.0"
  }
 },
 "nbformat": 4,
 "nbformat_minor": 5
}
