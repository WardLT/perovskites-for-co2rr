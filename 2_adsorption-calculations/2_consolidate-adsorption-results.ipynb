{
 "cells": [
  {
   "cell_type": "markdown",
   "id": "1511d551-9da8-4f50-b5ae-4b9b87fec534",
   "metadata": {},
   "source": [
    "# Consolidate Adsorption Results\n",
    "Summarize the adsorption energy by composition, surface type, and bond position"
   ]
  },
  {
   "cell_type": "code",
   "execution_count": 5,
   "id": "d4c00650-07cd-4f48-ac87-db99615d397c",
   "metadata": {},
   "outputs": [],
   "source": [
    "%matplotlib inline\n",
    "from matplotlib import pyplot as plt\n",
    "from pathlib import Path\n",
    "from ase.io import read\n",
    "import pandas as pd\n",
    "import numpy as np\n",
    "import json"
   ]
  },
  {
   "cell_type": "markdown",
   "id": "71e6a742-9223-46ec-a025-90d8ecf87081",
   "metadata": {},
   "source": [
    "Configuration"
   ]
  },
  {
   "cell_type": "code",
   "execution_count": 6,
   "id": "d3c55df9-e4b3-4004-9374-28e93543e9d7",
   "metadata": {},
   "outputs": [],
   "source": [
    "width: int = 2  # Number of repeat units in slab directions"
   ]
  },
  {
   "cell_type": "code",
   "execution_count": 7,
   "id": "948b4634-9c66-4fc6-94b7-4fb7bcf3fcef",
   "metadata": {},
   "outputs": [],
   "source": [
    "co2_energy = json.loads(Path('co2-molecule/co2.json').read_text())['energy']"
   ]
  },
  {
   "cell_type": "markdown",
   "id": "fa21dd2f-13bb-4193-b17f-4f4ab65c85b2",
   "metadata": {},
   "source": [
    "## Load the Surface Data\n",
    "Find the relaxed structures "
   ]
  },
  {
   "cell_type": "code",
   "execution_count": 8,
   "id": "3d21d5d8-2ab3-4eab-a72b-07cff55c98b6",
   "metadata": {},
   "outputs": [
    {
     "name": "stdout",
     "output_type": "stream",
     "text": [
      "Completed 218 adsorption calculations\n"
     ]
    }
   ],
   "source": [
    "adsorbates = []\n",
    "for relaxed_path in Path('adsorbate/').rglob(f'width-{width}/*/relaxed.extxyz'):\n",
    "    # Start with a summary based on the path\n",
    "    _, cell_dir, term, _, site, _ = relaxed_path.parts\n",
    "    comp = cell_dir.split(\"_\")[0]  # Bulk composition\n",
    "    term = int(term.split(\"=\")[1])\n",
    "    record = {\n",
    "        'comp': comp,\n",
    "        'term': term,\n",
    "        'site': site,\n",
    "    }\n",
    "\n",
    "    # Get the composition of the surface\n",
    "    relaxed = read(relaxed_path)\n",
    "    top_layer_z = relaxed.positions[:-3, :].max()  # highest point without the CO2\n",
    "    top_layer = relaxed[relaxed.positions[:, 2] > top_layer_z - 1.][:-3]\n",
    "    record['surface_comp'] = top_layer.get_chemical_formula('metal', empirical=True)\n",
    "\n",
    "    # Get the identity of the atom being bonded to\n",
    "    start_data = json.loads((relaxed_path.parent / 'metadata.json').read_text())\n",
    "    record['site_atom'] = start_data['bond_atom']\n",
    "\n",
    "    # Get the adsorption energy\n",
    "    relaxed_eng = relaxed.get_potential_energy()\n",
    "    record['adsorption_energy'] = relaxed_eng - start_data['expected_eng']\n",
    "\n",
    "    adsorbates.append(record)\n",
    "adsorbates = pd.DataFrame(adsorbates)\n",
    "print(f'Completed {len(adsorbates)} adsorption calculations')"
   ]
  },
  {
   "cell_type": "code",
   "execution_count": 9,
   "id": "2eb6ff82-3828-4893-85cc-91bccbd6abf7",
   "metadata": {},
   "outputs": [
    {
     "data": {
      "text/html": [
       "<div>\n",
       "<style scoped>\n",
       "    .dataframe tbody tr th:only-of-type {\n",
       "        vertical-align: middle;\n",
       "    }\n",
       "\n",
       "    .dataframe tbody tr th {\n",
       "        vertical-align: top;\n",
       "    }\n",
       "\n",
       "    .dataframe thead th {\n",
       "        text-align: right;\n",
       "    }\n",
       "</style>\n",
       "<table border=\"1\" class=\"dataframe\">\n",
       "  <thead>\n",
       "    <tr style=\"text-align: right;\">\n",
       "      <th></th>\n",
       "      <th>comp</th>\n",
       "      <th>term</th>\n",
       "      <th>site</th>\n",
       "      <th>surface_comp</th>\n",
       "      <th>site_atom</th>\n",
       "      <th>adsorption_energy</th>\n",
       "    </tr>\n",
       "  </thead>\n",
       "  <tbody>\n",
       "    <tr>\n",
       "      <th>0</th>\n",
       "      <td>YbWO3</td>\n",
       "      <td>1</td>\n",
       "      <td>mono_metal</td>\n",
       "      <td>WO2</td>\n",
       "      <td>W</td>\n",
       "      <td>0.147383</td>\n",
       "    </tr>\n",
       "    <tr>\n",
       "      <th>1</th>\n",
       "      <td>YbWO3</td>\n",
       "      <td>1</td>\n",
       "      <td>pi_metal</td>\n",
       "      <td>WO2</td>\n",
       "      <td>W</td>\n",
       "      <td>-0.330930</td>\n",
       "    </tr>\n",
       "    <tr>\n",
       "      <th>2</th>\n",
       "      <td>YbWO3</td>\n",
       "      <td>1</td>\n",
       "      <td>pi_oxygen</td>\n",
       "      <td>WO2</td>\n",
       "      <td>W</td>\n",
       "      <td>-0.334093</td>\n",
       "    </tr>\n",
       "    <tr>\n",
       "      <th>3</th>\n",
       "      <td>YbWO3</td>\n",
       "      <td>1</td>\n",
       "      <td>mono_oxygen</td>\n",
       "      <td>WO2</td>\n",
       "      <td>O</td>\n",
       "      <td>0.610603</td>\n",
       "    </tr>\n",
       "    <tr>\n",
       "      <th>4</th>\n",
       "      <td>YbWO3</td>\n",
       "      <td>0</td>\n",
       "      <td>mono_metal</td>\n",
       "      <td>YbO</td>\n",
       "      <td>Yb</td>\n",
       "      <td>0.741695</td>\n",
       "    </tr>\n",
       "  </tbody>\n",
       "</table>\n",
       "</div>"
      ],
      "text/plain": [
       "    comp  term         site surface_comp site_atom  adsorption_energy\n",
       "0  YbWO3     1   mono_metal          WO2         W           0.147383\n",
       "1  YbWO3     1     pi_metal          WO2         W          -0.330930\n",
       "2  YbWO3     1    pi_oxygen          WO2         W          -0.334093\n",
       "3  YbWO3     1  mono_oxygen          WO2         O           0.610603\n",
       "4  YbWO3     0   mono_metal          YbO        Yb           0.741695"
      ]
     },
     "execution_count": 9,
     "metadata": {},
     "output_type": "execute_result"
    }
   ],
   "source": [
    "adsorbates.head()"
   ]
  },
  {
   "cell_type": "markdown",
   "id": "0194597e-a2e8-4b9e-8db7-ec10b7e2e88f",
   "metadata": {},
   "source": [
    "## Compare Energies by Configuration\n",
    "Find out if running all the configurations is necessary to find one which bonds"
   ]
  },
  {
   "cell_type": "code",
   "execution_count": 12,
   "id": "f9f17617-da91-4952-88f4-47acb551e429",
   "metadata": {},
   "outputs": [
    {
     "data": {
      "image/png": "[encoded data removed]",
      "text/plain": [
       "<Figure size 450x250 with 4 Axes>"
      ]
     },
     "metadata": {},
     "output_type": "display_data"
    }
   ],
   "source": [
    "fig, axs = plt.subplots(2, 2, figsize=(4.5, 2.5), sharex=True)\n",
    "\n",
    "bins = np.linspace(\n",
    "    np.floor(np.percentile(adsorbates['adsorption_energy'], 10)),\n",
    "    np.ceil(np.percentile(adsorbates['adsorption_energy'], 90)),\n",
    "    32\n",
    ")\n",
    "for (gid, group), ax in zip(adsorbates.groupby('site'), axs.flatten()):\n",
    "    ax.text(0.95, 0.9, gid, transform=ax.transAxes, ha='right', fontsize=8)\n",
    "\n",
    "    ax.hist(group['adsorption_energy'], bins=bins)\n",
    "\n",
    "for ax in axs[:, 0]:\n",
    "    ax.set_ylabel('Count')\n",
    "for ax in axs[-1, :]:\n",
    "    ax.set_xlabel('Energy (eV)')\n",
    "\n",
    "fig.tight_layout()"
   ]
  },
  {
   "cell_type": "code",
   "execution_count": null,
   "id": "0f1a45d1-13b6-4268-a452-d5a351579cca",
   "metadata": {},
   "outputs": [],
   "source": []
  }
 ],
 "metadata": {
  "kernelspec": {
   "display_name": "Python 3 (ipykernel)",
   "language": "python",
   "name": "python3"
  },
  "language_info": {
   "codemirror_mode": {
    "name": "ipython",
    "version": 3
   },
   "file_extension": ".py",
   "mimetype": "text/x-python",
   "name": "python",
   "nbconvert_exporter": "python",
   "pygments_lexer": "ipython3",
   "version": "3.10.0"
  }
 },
 "nbformat": 4,
 "nbformat_minor": 5
}
