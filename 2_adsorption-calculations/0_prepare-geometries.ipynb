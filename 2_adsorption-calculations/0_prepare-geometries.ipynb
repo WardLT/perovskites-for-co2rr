{
 "cells": [
  {
   "cell_type": "markdown",
   "id": "942ac96a-0f9c-48b6-941e-ab64e0c9ca93",
   "metadata": {},
   "source": [
    "# Prepare Starting Geometries\n",
    "Place the CO2 molecule on the surface in each of the possible adsorption sites.\n",
    "Following [Jia et al.](https://pubs.rsc.org/en/content/articlehtml/2017/cs/c7cs00026j), we have at least 6 possible configurations."
   ]
  },
  {
   "cell_type": "code",
   "execution_count": 1,
   "id": "69b48d7b-8566-46de-a556-1ae6e1a45222",
   "metadata": {},
   "outputs": [],
   "source": [
    "from pathlib import Path\n",
    "from ase.build import molecule\n",
    "from ase.io import read\n",
    "from ase import Atoms\n",
    "import numpy as np\n",
    "import json"
   ]
  },
  {
   "cell_type": "markdown",
   "id": "32200569-f9d4-46f4-b865-2d618b9f1845",
   "metadata": {},
   "source": [
    "Configuration"
   ]
  },
  {
   "cell_type": "code",
   "execution_count": 2,
   "id": "51b6b119-a9f2-4ec3-be09-c60a5504c764",
   "metadata": {},
   "outputs": [],
   "source": [
    "initial_in_plane: int = 2  # Number of supercells in slab direction in initial surface\n",
    "final_in_plane: int = 2  # Number of supercells in slab direction in final surface\n",
    "layers: int = 5  # Number of layers in the supercell direction"
   ]
  },
  {
   "cell_type": "markdown",
   "id": "3ec39725-1062-4f07-9349-47158a2dbaee",
   "metadata": {},
   "source": [
    "Get the CO2 energy"
   ]
  },
  {
   "cell_type": "code",
   "execution_count": 3,
   "id": "d15f97c5-c4ad-401d-9c40-59ef7ff2e543",
   "metadata": {},
   "outputs": [],
   "source": [
    "co2_energy = json.loads(Path('co2-molecule/co2.json').read_text())['energy']"
   ]
  },
  {
   "cell_type": "markdown",
   "id": "43bfd08c-c181-4b83-9eaa-3d4056f0b158",
   "metadata": {},
   "source": [
    "## Make the functions\n",
    "Create functions which create each of the surface geometries"
   ]
  },
  {
   "cell_type": "markdown",
   "id": "855481a1-0828-47ec-a895-cd86208d0d03",
   "metadata": {},
   "source": [
    "Start with getting a handle on the molecule"
   ]
  },
  {
   "cell_type": "code",
   "execution_count": 4,
   "id": "613b661b-1b3b-4e6c-9510-189bf51a9593",
   "metadata": {},
   "outputs": [],
   "source": [
    "example_atoms = read('../1_prepare-surfaces/surfaces/EuOsO3_100_2-cells_5-layers/term=0/relaxed.extxyz')"
   ]
  },
  {
   "cell_type": "markdown",
   "id": "18633bbc-997f-40ec-b57d-53c54aa46350",
   "metadata": {},
   "source": [
    "### Monodentate\n",
    "A single atom from the surface being close to a single atom from the adsorbate"
   ]
  },
  {
   "cell_type": "code",
   "execution_count": 5,
   "id": "23e7c153-8f34-47ec-b769-0d18a981407e",
   "metadata": {},
   "outputs": [],
   "source": [
    "def make_monodentate_on_metal(atoms: Atoms, distance: float = 2.25, perturb: float = 0.01) -> tuple[Atoms, str]:\n",
    "    \"\"\"Place the CO2 moelcule such that an oxygen is near the surface metal\n",
    "\n",
    "    Args:\n",
    "        atoms: Surface structure after generating the supercell\n",
    "        distance: Distance between the Oxygen and the metal\n",
    "        perturb: How much to perturb the geometry of the CO2 after rotation\n",
    "            to ensure that symmetry is broken\n",
    "    Returns:\n",
    "        - New geometry\n",
    "        - Atom on bonding site\n",
    "    \"\"\"\n",
    "\n",
    "    # Make then rotate the CO2 such that it is parallel to the z axis\n",
    "    co2 = molecule('CO2')\n",
    "    co2.rotate(co2.positions[0, :] - co2.positions[1, :], 'z')\n",
    "    co2.rattle(perturb)\n",
    "\n",
    "    # Translate such that it is distance above the metal ion on the highest surface\n",
    "    #  TODO (wardlt): Prepare for alloys\n",
    "    metal_ids = [x != \"O\" for x in atoms.symbols]\n",
    "    metal_ions = atoms.positions[metal_ids, :]\n",
    "    top_metal = np.argmax(metal_ions[:, 2])\n",
    "    new_o_position = np.add(metal_ions[top_metal, :], [0, 0, distance])\n",
    "\n",
    "    lowest_o = np.argmin(co2.positions[:, 2])\n",
    "    disp = new_o_position - co2.positions[lowest_o, :]\n",
    "    co2.translate(disp)\n",
    "\n",
    "    # Concatentate them\n",
    "    output = atoms.copy()\n",
    "    output += co2\n",
    "    output.cell[2, 2] += 3\n",
    "    return output, atoms.symbols[metal_ids][top_metal]"
   ]
  },
  {
   "cell_type": "code",
   "execution_count": 6,
   "id": "8f20cc01-f005-4ff8-a670-e264ee4ecfd8",
   "metadata": {},
   "outputs": [],
   "source": [
    "def make_monodentate_on_oxygen(atoms: Atoms, distance: float = 2.25, perturb: float = 0.001) -> Atoms:\n",
    "    \"\"\"Place the CO2 moelcule such that the carbon is near the surface metal\n",
    "\n",
    "    Args:\n",
    "        atoms: Surface structure after generating the supercell\n",
    "        distance: Distance between the Oxygen and the metal\n",
    "        perturb: How much to perturb the geometry of the CO2 after rotation\n",
    "            to ensure that symmetry is broken\n",
    "    Returns:\n",
    "        - New geometry\n",
    "        - Atom on bonding site\n",
    "    \"\"\"\n",
    "\n",
    "    # Make then rotate the CO2 such that it is parallel to the x axis\n",
    "    co2 = molecule('CO2')\n",
    "    co2.rotate(co2.positions[0, :] - co2.positions[1, :], 'x')\n",
    "    co2.rattle(perturb)\n",
    "\n",
    "    # Translate such that it is distance above the metal ion on the highest surface\n",
    "    #  TODO (wardlt): Prepare for alloys\n",
    "    o_ions = atoms.positions[[x == \"O\" for x in atoms.symbols], :]\n",
    "    top_o = np.argmax(o_ions[:, 2])\n",
    "    new_c_position = np.add(o_ions[top_o, :], [0, 0, distance])\n",
    "\n",
    "    disp = new_c_position - co2.positions[0, :]\n",
    "    co2.translate(disp)\n",
    "\n",
    "    # Concatentate them\n",
    "    output = atoms.copy()\n",
    "    output += co2\n",
    "    return output, \"O\""
   ]
  },
  {
   "cell_type": "markdown",
   "id": "15db28de-903a-43cc-b511-3c41bc1fcc87",
   "metadata": {},
   "source": [
    "## &pi; Coordination\n",
    "The double bond between C and O being close to a single atom on the surface"
   ]
  },
  {
   "cell_type": "code",
   "execution_count": 7,
   "id": "8f6b9bed-536c-45e5-a057-6f8b1c787de9",
   "metadata": {},
   "outputs": [],
   "source": [
    "def make_pi_conjugate_on_metal(atoms: Atoms, distance: float = 2.25, perturb: float = 0.001) -> Atoms:\n",
    "    \"\"\"Place the CO2 moelcule such that a C=O bond is near the surface metal\n",
    "\n",
    "    Args:\n",
    "        atoms: Surface structure after generating the supercell\n",
    "        distance: Distance between the Oxygen and the metal\n",
    "        perturb: How much to perturb the geometry of the CO2 after rotation\n",
    "            to ensure that symmetry is broken\n",
    "    Returns:\n",
    "        New geometry\n",
    "    \"\"\"\n",
    "\n",
    "    # Make then rotate the CO2 such that it is parallel to the x axis\n",
    "    co2 = molecule('CO2')\n",
    "    co2.rotate(co2.positions[0, :] - co2.positions[1, :], 'x')\n",
    "    co2.rattle(perturb)\n",
    "\n",
    "    # Translate such that it is distance above the metal ion on the highest surface\n",
    "    #  TODO (wardlt): Prepare for alloys\n",
    "    metal_ids = [x != \"O\" for x in atoms.symbols]\n",
    "    metal_ions = atoms.positions[metal_ids, :]\n",
    "    top_metal = np.argmax(metal_ions[:, 2])\n",
    "    new_position = np.add(metal_ions[top_metal, :], [0, 0, distance])\n",
    "\n",
    "    disp = new_position - co2.positions[:2, :].mean(axis=0)\n",
    "    co2.translate(disp)\n",
    "\n",
    "    # Concatentate them\n",
    "    output = atoms.copy()\n",
    "    output += co2\n",
    "    return output, atoms.symbols[metal_ids][top_metal]"
   ]
  },
  {
   "cell_type": "code",
   "execution_count": 8,
   "id": "957f8442-de80-4ab8-b148-5834e83cf51a",
   "metadata": {},
   "outputs": [],
   "source": [
    "def make_pi_conjugate_on_oxygen(atoms: Atoms, distance: float = 2.25, perturb: float = 0.001) -> Atoms:\n",
    "    \"\"\"Place the CO2 moelcule such that a C=O bond is near a surface oxygen\n",
    "\n",
    "    Args:\n",
    "        atoms: Surface structure after generating the supercell\n",
    "        distance: Distance between the Oxygen and the metal\n",
    "        perturb: How much to perturb the geometry of the CO2 after rotation\n",
    "            to ensure that symmetry is broken\n",
    "    Returns:\n",
    "        New geometry\n",
    "    \"\"\"\n",
    "\n",
    "    # Make then rotate the CO2 such that it is parallel to the x axis\n",
    "    co2 = molecule('CO2')\n",
    "    co2.rotate(co2.positions[0, :] - co2.positions[1, :], 'x')\n",
    "    co2.rattle(perturb)\n",
    "\n",
    "    # Translate such that it is distance above the metal ion on the highest surface\n",
    "    #  TODO (wardlt): Prepare for alloys\n",
    "    o_ions = atoms.positions[[x == \"O\" for x in atoms.symbols], :]\n",
    "    top_o = np.argmax(o_ions[:, 2])\n",
    "    new_c_position = np.add(o_ions[top_o, :], [0, 0, distance])\n",
    "\n",
    "    disp = new_c_position - co2.positions[:2, :].mean(axis=0)\n",
    "    co2.translate(disp)\n",
    "\n",
    "    # Concatentate them\n",
    "    output = atoms.copy()\n",
    "    output += co2\n",
    "    return output, \"O\""
   ]
  },
  {
   "cell_type": "markdown",
   "id": "238b446f-ca0c-4f10-987e-285a42375522",
   "metadata": {},
   "source": [
    "## Bidentate\n",
    "There are three possible bidentate positions:\n",
    "1. Such that each oxygen in CO2 is above a different metal\n",
    "2. Such that the C is above one metal and an O is above another metal\n",
    "3. Such at C and O are above the same metal\n",
    "\n",
    "We are skipping this for now. The first two require concurreance between the length of a CO2 molecule and the intermetal spacing. the last would have the same starting geometry as the &pi; conjugation above the metal site"
   ]
  },
  {
   "cell_type": "markdown",
   "id": "08e3b9e3-e0be-4b08-8962-bf3ca680b011",
   "metadata": {},
   "source": [
    "## Create Surfaces\n",
    "Iterate over all completed surface relaxations to create starting geometries for each."
   ]
  },
  {
   "cell_type": "code",
   "execution_count": 10,
   "id": "e599f6c3-a108-4bf8-b63e-43a024c1ab66",
   "metadata": {},
   "outputs": [],
   "source": [
    "surface_dir = Path('../1_prepare-surfaces/surfaces/')\n",
    "for starting_path in surface_dir.glob(f'*_{initial_in_plane}-cells_{layers}-layers/*/relaxed.extxyz'):\n",
    "    starting = read(starting_path)\n",
    "    expected_eng = starting.get_potential_energy()\n",
    "\n",
    "    # Expand the structure if desired\n",
    "    if initial_in_plane != final_in_plane:\n",
    "        repeats = final_in_plane // initial_in_plane\n",
    "        starting *= [repeats, repeats, 1]\n",
    "        expected_eng *= repeats * repeats\n",
    "    \n",
    "    for name, func in [\n",
    "        ('mono_metal', make_monodentate_on_metal),\n",
    "        ('mono_oxygen', make_monodentate_on_oxygen),\n",
    "        ('pi_metal', make_pi_conjugate_on_metal),\n",
    "        ('pi_oxygen', make_pi_conjugate_on_metal),\n",
    "    ]:\n",
    "        # Make the directory\n",
    "        write_dir = Path('adsorbate') / starting_path.relative_to(surface_dir).parent / f'width-{final_in_plane}' / name\n",
    "        write_dir.mkdir(parents=True, exist_ok=True)\n",
    "        \n",
    "        # Make structure, save it and metadata\n",
    "        with_co2, bond_atom = func(starting)\n",
    "        (write_dir / 'metadata.json').write_text(json.dumps({\n",
    "            'bond_atom': bond_atom,\n",
    "            'expected_eng': expected_eng + co2_energy\n",
    "        }))\n",
    "        if write_dir.exists():\n",
    "            continue\n",
    "        with_co2.write(write_dir / 'unrelaxed.extxyz')"
   ]
  },
  {
   "cell_type": "code",
   "execution_count": null,
   "id": "6373b4d6-236e-4c23-8dfc-43d17ee7ff2a",
   "metadata": {},
   "outputs": [],
   "source": []
  }
 ],
 "metadata": {
  "kernelspec": {
   "display_name": "Python 3 (ipykernel)",
   "language": "python",
   "name": "python3"
  },
  "language_info": {
   "codemirror_mode": {
    "name": "ipython",
    "version": 3
   },
   "file_extension": ".py",
   "mimetype": "text/x-python",
   "name": "python",
   "nbconvert_exporter": "python",
   "pygments_lexer": "ipython3",
   "version": "3.10.0"
  }
 },
 "nbformat": 4,
 "nbformat_minor": 5
}
