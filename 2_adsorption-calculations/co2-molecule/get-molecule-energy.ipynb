{
 "cells": [
  {
   "cell_type": "markdown",
   "id": "f93d6bce-66db-4b80-8084-0f2f37f2d353",
   "metadata": {},
   "source": [
    "# Compute Energy of CO2 Molecule\n",
    "So that we can compute the energy of it attached to a surface"
   ]
  },
  {
   "cell_type": "code",
   "execution_count": 6,
   "id": "52162944-1845-46e4-8fd9-1cf39a04d92d",
   "metadata": {},
   "outputs": [],
   "source": [
    "from co2rr.cp2k import make_calculator\n",
    "from ase.optimize import BFGS\n",
    "from ase.build import molecule\n",
    "from pathlib import Path\n",
    "import json"
   ]
  },
  {
   "cell_type": "markdown",
   "id": "879fd4cd-10a6-468d-9714-d8db07b4e539",
   "metadata": {},
   "source": [
    "## Make then relax"
   ]
  },
  {
   "cell_type": "code",
   "execution_count": 2,
   "id": "630565ea-5155-4bd3-8fca-927a4e75cf7b",
   "metadata": {},
   "outputs": [],
   "source": [
    "atoms = molecule('CO2')\n",
    "atoms.center(vacuum=6)"
   ]
  },
  {
   "cell_type": "markdown",
   "id": "e9b2056d-5053-4efe-b055-37d0b1c8b276",
   "metadata": {},
   "source": [
    "Run it in an isolated directory"
   ]
  },
  {
   "cell_type": "code",
   "execution_count": 3,
   "id": "7e6356c5-f288-461f-b29b-41344a7d778e",
   "metadata": {},
   "outputs": [],
   "source": [
    "run_dir = Path('run')\n",
    "run_dir.mkdir(exist_ok=True)"
   ]
  },
  {
   "cell_type": "code",
   "execution_count": 4,
   "id": "feea97bb-a335-4a54-9ea8-4db177bdc505",
   "metadata": {},
   "outputs": [
    {
     "name": "stdout",
     "output_type": "stream",
     "text": [
      "      Step     Time          Energy          fmax\n",
      "BFGS:    0 07:56:29    -1026.752647        0.469939\n",
      "BFGS:    1 07:58:37    -1026.754596        0.187015\n",
      "BFGS:    2 08:01:10    -1026.754933        0.015852\n"
     ]
    }
   ],
   "source": [
    "with make_calculator(atoms, cutoff=600, max_scf=500, uks=False) as calc:\n",
    "    # Delete the old run\n",
    "    for f in ['cp2k.out']:\n",
    "        (run_dir / f).write_text(\"\")  # Clear it\n",
    "\n",
    "    # Set up the calculator\n",
    "    calc.directory = str(run_dir)\n",
    "    atoms.calc = calc\n",
    "\n",
    "    # Run the relaxation\n",
    "    opt = BFGS(atoms)\n",
    "    opt.run(fmax=0.1)"
   ]
  },
  {
   "cell_type": "markdown",
   "id": "77fc91e4-ff8d-4cea-aeb3-b80ab47fba01",
   "metadata": {},
   "source": [
    "Save the energy"
   ]
  },
  {
   "cell_type": "code",
   "execution_count": 8,
   "id": "cee79ec8-80e3-4e52-ba8f-7d74f7e0d985",
   "metadata": {},
   "outputs": [],
   "source": [
    "with open('co2.json', 'w') as fp:\n",
    "    json.dump({\n",
    "        'energy': atoms.get_potential_energy(),\n",
    "    }, fp)"
   ]
  },
  {
   "cell_type": "code",
   "execution_count": null,
   "id": "99619f54-dcc0-4db1-bca4-43ee4a9d585a",
   "metadata": {},
   "outputs": [],
   "source": []
  }
 ],
 "metadata": {
  "kernelspec": {
   "display_name": "Python 3 (ipykernel)",
   "language": "python",
   "name": "python3"
  },
  "language_info": {
   "codemirror_mode": {
    "name": "ipython",
    "version": 3
   },
   "file_extension": ".py",
   "mimetype": "text/x-python",
   "name": "python",
   "nbconvert_exporter": "python",
   "pygments_lexer": "ipython3",
   "version": "3.10.0"
  }
 },
 "nbformat": 4,
 "nbformat_minor": 5
}
